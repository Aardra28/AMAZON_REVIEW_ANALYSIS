{
  "nbformat": 4,
  "nbformat_minor": 0,
  "metadata": {
    "colab": {
      "provenance": []
    },
    "kernelspec": {
      "name": "python3",
      "display_name": "Python 3"
    },
    "language_info": {
      "name": "python"
    }
  },
  "cells": [
    {
      "cell_type": "code",
      "execution_count": null,
      "metadata": {
        "id": "pBq1l4HSks61"
      },
      "outputs": [],
      "source": [
        "import warnings\n",
        "warnings.filterwarnings('ignore',category=DeprecationWarning)\n",
        "\n",
        "# import libraries\n",
        "import numpy as np\n",
        "import pandas as pd\n",
        "import nltk\n",
        "import matplotlib.pyplot as plt\n",
        "import re,random,os\n",
        "import seaborn as sns\n",
        "from nltk.corpus import stopwords\n",
        "import string\n",
        "from pprint import pprint as pprint\n",
        "\n",
        "# spacy for basic processing, optional, can use nltk as well(lemmatisation etc.)\n",
        "import spacy\n",
        "\n",
        "#gensim for LDA\n",
        "import gensim\n",
        "import gensim.corpora as corpora\n",
        "from gensim.utils import simple_preprocess\n",
        "from gensim.models import CoherenceModel\n",
        "\n",
        "#plotting tools\n",
        "import pyLDAvis\n",
        "import pyLDAvis.gensim #dont skip this\n",
        "import matplotlib.pyplot as plt\n",
        "%matplotlib inline"
      ]
    },
    {
      "cell_type": "code",
      "source": [
        "spacy.cli.download(\"en\")"
      ],
      "metadata": {
        "colab": {
          "base_uri": "https://localhost:8080/"
        },
        "id": "O5VAm6Kpk9oG",
        "outputId": "3f11943c-4aae-4ee9-c9c9-31dffade0dd9"
      },
      "execution_count": null,
      "outputs": [
        {
          "output_type": "stream",
          "name": "stderr",
          "text": [
            "/usr/local/lib/python3.10/dist-packages/ipykernel/ipkernel.py:283: DeprecationWarning: `should_run_async` will not call `transform_cell` automatically in the future. Please pass the result to `transformed_cell` argument and any exception that happen during thetransform in `preprocessing_exc_tuple` in IPython 7.17 and above.\n",
            "  and should_run_async(code)\n"
          ]
        },
        {
          "output_type": "stream",
          "name": "stdout",
          "text": [
            "\u001b[38;5;3m⚠ As of spaCy v3.0, shortcuts like 'en' are deprecated. Please use the\n",
            "full pipeline package name 'en_core_web_sm' instead.\u001b[0m\n",
            "\u001b[38;5;2m✔ Download and installation successful\u001b[0m\n",
            "You can now load the package via spacy.load('en_core_web_sm')\n"
          ]
        }
      ]
    },
    {
      "cell_type": "code",
      "source": [
        "df = pd.read_csv('Amazon Reviews.csv', encoding='utf-8')\n",
        "df.head()"
      ],
      "metadata": {
        "colab": {
          "base_uri": "https://localhost:8080/",
          "height": 612
        },
        "id": "hkvLc-fzlDEm",
        "outputId": "6b121fe8-37da-4763-b5eb-88ecba704a85"
      },
      "execution_count": null,
      "outputs": [
        {
          "output_type": "stream",
          "name": "stderr",
          "text": [
            "/usr/local/lib/python3.10/dist-packages/ipykernel/ipkernel.py:283: DeprecationWarning: `should_run_async` will not call `transform_cell` automatically in the future. Please pass the result to `transformed_cell` argument and any exception that happen during thetransform in `preprocessing_exc_tuple` in IPython 7.17 and above.\n",
            "  and should_run_async(code)\n"
          ]
        },
        {
          "output_type": "execute_result",
          "data": {
            "text/plain": [
              "                     id       asins   brand                  categories  \\\n",
              "0  AVpe7AsMilAPnD_xQ78G  B00QJDU3KY  Amazon  Amazon Devices,mazon.co.uk   \n",
              "1  AVpe7AsMilAPnD_xQ78G  B00QJDU3KY  Amazon  Amazon Devices,mazon.co.uk   \n",
              "2  AVpe7AsMilAPnD_xQ78G  B00QJDU3KY  Amazon  Amazon Devices,mazon.co.uk   \n",
              "3  AVpe7AsMilAPnD_xQ78G  B00QJDU3KY  Amazon  Amazon Devices,mazon.co.uk   \n",
              "4  AVpe7AsMilAPnD_xQ78G  B00QJDU3KY  Amazon  Amazon Devices,mazon.co.uk   \n",
              "\n",
              "  colors             dateAdded           dateUpdated  \\\n",
              "0    NaN  2016-03-08T20:21:53Z  2017-07-18T23:52:58Z   \n",
              "1    NaN  2016-03-08T20:21:53Z  2017-07-18T23:52:58Z   \n",
              "2    NaN  2016-03-08T20:21:53Z  2017-07-18T23:52:58Z   \n",
              "3    NaN  2016-03-08T20:21:53Z  2017-07-18T23:52:58Z   \n",
              "4    NaN  2016-03-08T20:21:53Z  2017-07-18T23:52:58Z   \n",
              "\n",
              "                  dimension  ean                         keys  ...  \\\n",
              "0  169 mm x 117 mm x 9.1 mm  NaN  kindlepaperwhite/b00qjdu3ky  ...   \n",
              "1  169 mm x 117 mm x 9.1 mm  NaN  kindlepaperwhite/b00qjdu3ky  ...   \n",
              "2  169 mm x 117 mm x 9.1 mm  NaN  kindlepaperwhite/b00qjdu3ky  ...   \n",
              "3  169 mm x 117 mm x 9.1 mm  NaN  kindlepaperwhite/b00qjdu3ky  ...   \n",
              "4  169 mm x 117 mm x 9.1 mm  NaN  kindlepaperwhite/b00qjdu3ky  ...   \n",
              "\n",
              "  reviews.rating                                 reviews.sourceURLs  \\\n",
              "0            5.0  https://www.amazon.com/Kindle-Paperwhite-High-...   \n",
              "1            5.0  https://www.amazon.com/Kindle-Paperwhite-High-...   \n",
              "2            4.0  https://www.amazon.com/Kindle-Paperwhite-High-...   \n",
              "3            5.0  https://www.amazon.com/Kindle-Paperwhite-High-...   \n",
              "4            5.0  https://www.amazon.com/Kindle-Paperwhite-High-...   \n",
              "\n",
              "                                        reviews.text  \\\n",
              "0  I initially had trouble deciding between the p...   \n",
              "1  Allow me to preface this with a little history...   \n",
              "2  I am enjoying it so far. Great for reading. Ha...   \n",
              "3  I bought one of the first Paperwhites and have...   \n",
              "4  I have to say upfront - I don't like coroporat...   \n",
              "\n",
              "                                reviews.title reviews.userCity  \\\n",
              "0              Paperwhite voyage, no regrets!              NaN   \n",
              "1           One Simply Could Not Ask For More              NaN   \n",
              "2  Great for those that just want an e-reader              NaN   \n",
              "3                    Love / Hate relationship              NaN   \n",
              "4                                   I LOVE IT              NaN   \n",
              "\n",
              "  reviews.userProvince    reviews.username  sizes upc     weight  \n",
              "0                  NaN          Cristina M    NaN NaN  205 grams  \n",
              "1                  NaN               Ricky    NaN NaN  205 grams  \n",
              "2                  NaN       Tedd Gardiner    NaN NaN  205 grams  \n",
              "3                  NaN              Dougal    NaN NaN  205 grams  \n",
              "4                  NaN  Miljan David Tanic    NaN NaN  205 grams  \n",
              "\n",
              "[5 rows x 27 columns]"
            ],
            "text/html": [
              "\n",
              "\n",
              "  <div id=\"df-eed5e64e-09d2-4199-ba0a-3bd9a082b042\">\n",
              "    <div class=\"colab-df-container\">\n",
              "      <div>\n",
              "<style scoped>\n",
              "    .dataframe tbody tr th:only-of-type {\n",
              "        vertical-align: middle;\n",
              "    }\n",
              "\n",
              "    .dataframe tbody tr th {\n",
              "        vertical-align: top;\n",
              "    }\n",
              "\n",
              "    .dataframe thead th {\n",
              "        text-align: right;\n",
              "    }\n",
              "</style>\n",
              "<table border=\"1\" class=\"dataframe\">\n",
              "  <thead>\n",
              "    <tr style=\"text-align: right;\">\n",
              "      <th></th>\n",
              "      <th>id</th>\n",
              "      <th>asins</th>\n",
              "      <th>brand</th>\n",
              "      <th>categories</th>\n",
              "      <th>colors</th>\n",
              "      <th>dateAdded</th>\n",
              "      <th>dateUpdated</th>\n",
              "      <th>dimension</th>\n",
              "      <th>ean</th>\n",
              "      <th>keys</th>\n",
              "      <th>...</th>\n",
              "      <th>reviews.rating</th>\n",
              "      <th>reviews.sourceURLs</th>\n",
              "      <th>reviews.text</th>\n",
              "      <th>reviews.title</th>\n",
              "      <th>reviews.userCity</th>\n",
              "      <th>reviews.userProvince</th>\n",
              "      <th>reviews.username</th>\n",
              "      <th>sizes</th>\n",
              "      <th>upc</th>\n",
              "      <th>weight</th>\n",
              "    </tr>\n",
              "  </thead>\n",
              "  <tbody>\n",
              "    <tr>\n",
              "      <th>0</th>\n",
              "      <td>AVpe7AsMilAPnD_xQ78G</td>\n",
              "      <td>B00QJDU3KY</td>\n",
              "      <td>Amazon</td>\n",
              "      <td>Amazon Devices,mazon.co.uk</td>\n",
              "      <td>NaN</td>\n",
              "      <td>2016-03-08T20:21:53Z</td>\n",
              "      <td>2017-07-18T23:52:58Z</td>\n",
              "      <td>169 mm x 117 mm x 9.1 mm</td>\n",
              "      <td>NaN</td>\n",
              "      <td>kindlepaperwhite/b00qjdu3ky</td>\n",
              "      <td>...</td>\n",
              "      <td>5.0</td>\n",
              "      <td>https://www.amazon.com/Kindle-Paperwhite-High-...</td>\n",
              "      <td>I initially had trouble deciding between the p...</td>\n",
              "      <td>Paperwhite voyage, no regrets!</td>\n",
              "      <td>NaN</td>\n",
              "      <td>NaN</td>\n",
              "      <td>Cristina M</td>\n",
              "      <td>NaN</td>\n",
              "      <td>NaN</td>\n",
              "      <td>205 grams</td>\n",
              "    </tr>\n",
              "    <tr>\n",
              "      <th>1</th>\n",
              "      <td>AVpe7AsMilAPnD_xQ78G</td>\n",
              "      <td>B00QJDU3KY</td>\n",
              "      <td>Amazon</td>\n",
              "      <td>Amazon Devices,mazon.co.uk</td>\n",
              "      <td>NaN</td>\n",
              "      <td>2016-03-08T20:21:53Z</td>\n",
              "      <td>2017-07-18T23:52:58Z</td>\n",
              "      <td>169 mm x 117 mm x 9.1 mm</td>\n",
              "      <td>NaN</td>\n",
              "      <td>kindlepaperwhite/b00qjdu3ky</td>\n",
              "      <td>...</td>\n",
              "      <td>5.0</td>\n",
              "      <td>https://www.amazon.com/Kindle-Paperwhite-High-...</td>\n",
              "      <td>Allow me to preface this with a little history...</td>\n",
              "      <td>One Simply Could Not Ask For More</td>\n",
              "      <td>NaN</td>\n",
              "      <td>NaN</td>\n",
              "      <td>Ricky</td>\n",
              "      <td>NaN</td>\n",
              "      <td>NaN</td>\n",
              "      <td>205 grams</td>\n",
              "    </tr>\n",
              "    <tr>\n",
              "      <th>2</th>\n",
              "      <td>AVpe7AsMilAPnD_xQ78G</td>\n",
              "      <td>B00QJDU3KY</td>\n",
              "      <td>Amazon</td>\n",
              "      <td>Amazon Devices,mazon.co.uk</td>\n",
              "      <td>NaN</td>\n",
              "      <td>2016-03-08T20:21:53Z</td>\n",
              "      <td>2017-07-18T23:52:58Z</td>\n",
              "      <td>169 mm x 117 mm x 9.1 mm</td>\n",
              "      <td>NaN</td>\n",
              "      <td>kindlepaperwhite/b00qjdu3ky</td>\n",
              "      <td>...</td>\n",
              "      <td>4.0</td>\n",
              "      <td>https://www.amazon.com/Kindle-Paperwhite-High-...</td>\n",
              "      <td>I am enjoying it so far. Great for reading. Ha...</td>\n",
              "      <td>Great for those that just want an e-reader</td>\n",
              "      <td>NaN</td>\n",
              "      <td>NaN</td>\n",
              "      <td>Tedd Gardiner</td>\n",
              "      <td>NaN</td>\n",
              "      <td>NaN</td>\n",
              "      <td>205 grams</td>\n",
              "    </tr>\n",
              "    <tr>\n",
              "      <th>3</th>\n",
              "      <td>AVpe7AsMilAPnD_xQ78G</td>\n",
              "      <td>B00QJDU3KY</td>\n",
              "      <td>Amazon</td>\n",
              "      <td>Amazon Devices,mazon.co.uk</td>\n",
              "      <td>NaN</td>\n",
              "      <td>2016-03-08T20:21:53Z</td>\n",
              "      <td>2017-07-18T23:52:58Z</td>\n",
              "      <td>169 mm x 117 mm x 9.1 mm</td>\n",
              "      <td>NaN</td>\n",
              "      <td>kindlepaperwhite/b00qjdu3ky</td>\n",
              "      <td>...</td>\n",
              "      <td>5.0</td>\n",
              "      <td>https://www.amazon.com/Kindle-Paperwhite-High-...</td>\n",
              "      <td>I bought one of the first Paperwhites and have...</td>\n",
              "      <td>Love / Hate relationship</td>\n",
              "      <td>NaN</td>\n",
              "      <td>NaN</td>\n",
              "      <td>Dougal</td>\n",
              "      <td>NaN</td>\n",
              "      <td>NaN</td>\n",
              "      <td>205 grams</td>\n",
              "    </tr>\n",
              "    <tr>\n",
              "      <th>4</th>\n",
              "      <td>AVpe7AsMilAPnD_xQ78G</td>\n",
              "      <td>B00QJDU3KY</td>\n",
              "      <td>Amazon</td>\n",
              "      <td>Amazon Devices,mazon.co.uk</td>\n",
              "      <td>NaN</td>\n",
              "      <td>2016-03-08T20:21:53Z</td>\n",
              "      <td>2017-07-18T23:52:58Z</td>\n",
              "      <td>169 mm x 117 mm x 9.1 mm</td>\n",
              "      <td>NaN</td>\n",
              "      <td>kindlepaperwhite/b00qjdu3ky</td>\n",
              "      <td>...</td>\n",
              "      <td>5.0</td>\n",
              "      <td>https://www.amazon.com/Kindle-Paperwhite-High-...</td>\n",
              "      <td>I have to say upfront - I don't like coroporat...</td>\n",
              "      <td>I LOVE IT</td>\n",
              "      <td>NaN</td>\n",
              "      <td>NaN</td>\n",
              "      <td>Miljan David Tanic</td>\n",
              "      <td>NaN</td>\n",
              "      <td>NaN</td>\n",
              "      <td>205 grams</td>\n",
              "    </tr>\n",
              "  </tbody>\n",
              "</table>\n",
              "<p>5 rows × 27 columns</p>\n",
              "</div>\n",
              "      <button class=\"colab-df-convert\" onclick=\"convertToInteractive('df-eed5e64e-09d2-4199-ba0a-3bd9a082b042')\"\n",
              "              title=\"Convert this dataframe to an interactive table.\"\n",
              "              style=\"display:none;\">\n",
              "\n",
              "  <svg xmlns=\"http://www.w3.org/2000/svg\" height=\"24px\"viewBox=\"0 0 24 24\"\n",
              "       width=\"24px\">\n",
              "    <path d=\"M0 0h24v24H0V0z\" fill=\"none\"/>\n",
              "    <path d=\"M18.56 5.44l.94 2.06.94-2.06 2.06-.94-2.06-.94-.94-2.06-.94 2.06-2.06.94zm-11 1L8.5 8.5l.94-2.06 2.06-.94-2.06-.94L8.5 2.5l-.94 2.06-2.06.94zm10 10l.94 2.06.94-2.06 2.06-.94-2.06-.94-.94-2.06-.94 2.06-2.06.94z\"/><path d=\"M17.41 7.96l-1.37-1.37c-.4-.4-.92-.59-1.43-.59-.52 0-1.04.2-1.43.59L10.3 9.45l-7.72 7.72c-.78.78-.78 2.05 0 2.83L4 21.41c.39.39.9.59 1.41.59.51 0 1.02-.2 1.41-.59l7.78-7.78 2.81-2.81c.8-.78.8-2.07 0-2.86zM5.41 20L4 18.59l7.72-7.72 1.47 1.35L5.41 20z\"/>\n",
              "  </svg>\n",
              "      </button>\n",
              "\n",
              "\n",
              "\n",
              "    <div id=\"df-703cd7b5-aae9-444d-a097-650ee61dee4a\">\n",
              "      <button class=\"colab-df-quickchart\" onclick=\"quickchart('df-703cd7b5-aae9-444d-a097-650ee61dee4a')\"\n",
              "              title=\"Suggest charts.\"\n",
              "              style=\"display:none;\">\n",
              "\n",
              "<svg xmlns=\"http://www.w3.org/2000/svg\" height=\"24px\"viewBox=\"0 0 24 24\"\n",
              "     width=\"24px\">\n",
              "    <g>\n",
              "        <path d=\"M19 3H5c-1.1 0-2 .9-2 2v14c0 1.1.9 2 2 2h14c1.1 0 2-.9 2-2V5c0-1.1-.9-2-2-2zM9 17H7v-7h2v7zm4 0h-2V7h2v10zm4 0h-2v-4h2v4z\"/>\n",
              "    </g>\n",
              "</svg>\n",
              "      </button>\n",
              "    </div>\n",
              "\n",
              "<style>\n",
              "  .colab-df-quickchart {\n",
              "    background-color: #E8F0FE;\n",
              "    border: none;\n",
              "    border-radius: 50%;\n",
              "    cursor: pointer;\n",
              "    display: none;\n",
              "    fill: #1967D2;\n",
              "    height: 32px;\n",
              "    padding: 0 0 0 0;\n",
              "    width: 32px;\n",
              "  }\n",
              "\n",
              "  .colab-df-quickchart:hover {\n",
              "    background-color: #E2EBFA;\n",
              "    box-shadow: 0px 1px 2px rgba(60, 64, 67, 0.3), 0px 1px 3px 1px rgba(60, 64, 67, 0.15);\n",
              "    fill: #174EA6;\n",
              "  }\n",
              "\n",
              "  [theme=dark] .colab-df-quickchart {\n",
              "    background-color: #3B4455;\n",
              "    fill: #D2E3FC;\n",
              "  }\n",
              "\n",
              "  [theme=dark] .colab-df-quickchart:hover {\n",
              "    background-color: #434B5C;\n",
              "    box-shadow: 0px 1px 3px 1px rgba(0, 0, 0, 0.15);\n",
              "    filter: drop-shadow(0px 1px 2px rgba(0, 0, 0, 0.3));\n",
              "    fill: #FFFFFF;\n",
              "  }\n",
              "</style>\n",
              "\n",
              "    <script>\n",
              "      async function quickchart(key) {\n",
              "        const containerElement = document.querySelector('#' + key);\n",
              "        const charts = await google.colab.kernel.invokeFunction(\n",
              "            'suggestCharts', [key], {});\n",
              "      }\n",
              "    </script>\n",
              "\n",
              "      <script>\n",
              "\n",
              "function displayQuickchartButton(domScope) {\n",
              "  let quickchartButtonEl =\n",
              "    domScope.querySelector('#df-703cd7b5-aae9-444d-a097-650ee61dee4a button.colab-df-quickchart');\n",
              "  quickchartButtonEl.style.display =\n",
              "    google.colab.kernel.accessAllowed ? 'block' : 'none';\n",
              "}\n",
              "\n",
              "        displayQuickchartButton(document);\n",
              "      </script>\n",
              "      <style>\n",
              "    .colab-df-container {\n",
              "      display:flex;\n",
              "      flex-wrap:wrap;\n",
              "      gap: 12px;\n",
              "    }\n",
              "\n",
              "    .colab-df-convert {\n",
              "      background-color: #E8F0FE;\n",
              "      border: none;\n",
              "      border-radius: 50%;\n",
              "      cursor: pointer;\n",
              "      display: none;\n",
              "      fill: #1967D2;\n",
              "      height: 32px;\n",
              "      padding: 0 0 0 0;\n",
              "      width: 32px;\n",
              "    }\n",
              "\n",
              "    .colab-df-convert:hover {\n",
              "      background-color: #E2EBFA;\n",
              "      box-shadow: 0px 1px 2px rgba(60, 64, 67, 0.3), 0px 1px 3px 1px rgba(60, 64, 67, 0.15);\n",
              "      fill: #174EA6;\n",
              "    }\n",
              "\n",
              "    [theme=dark] .colab-df-convert {\n",
              "      background-color: #3B4455;\n",
              "      fill: #D2E3FC;\n",
              "    }\n",
              "\n",
              "    [theme=dark] .colab-df-convert:hover {\n",
              "      background-color: #434B5C;\n",
              "      box-shadow: 0px 1px 3px 1px rgba(0, 0, 0, 0.15);\n",
              "      filter: drop-shadow(0px 1px 2px rgba(0, 0, 0, 0.3));\n",
              "      fill: #FFFFFF;\n",
              "    }\n",
              "  </style>\n",
              "\n",
              "      <script>\n",
              "        const buttonEl =\n",
              "          document.querySelector('#df-eed5e64e-09d2-4199-ba0a-3bd9a082b042 button.colab-df-convert');\n",
              "        buttonEl.style.display =\n",
              "          google.colab.kernel.accessAllowed ? 'block' : 'none';\n",
              "\n",
              "        async function convertToInteractive(key) {\n",
              "          const element = document.querySelector('#df-eed5e64e-09d2-4199-ba0a-3bd9a082b042');\n",
              "          const dataTable =\n",
              "            await google.colab.kernel.invokeFunction('convertToInteractive',\n",
              "                                                     [key], {});\n",
              "          if (!dataTable) return;\n",
              "\n",
              "          const docLinkHtml = 'Like what you see? Visit the ' +\n",
              "            '<a target=\"_blank\" href=https://colab.research.google.com/notebooks/data_table.ipynb>data table notebook</a>'\n",
              "            + ' to learn more about interactive tables.';\n",
              "          element.innerHTML = '';\n",
              "          dataTable['output_type'] = 'display_data';\n",
              "          await google.colab.output.renderOutput(dataTable, element);\n",
              "          const docLink = document.createElement('div');\n",
              "          docLink.innerHTML = docLinkHtml;\n",
              "          element.appendChild(docLink);\n",
              "        }\n",
              "      </script>\n",
              "    </div>\n",
              "  </div>\n"
            ]
          },
          "metadata": {},
          "execution_count": 3
        }
      ]
    },
    {
      "cell_type": "code",
      "source": [
        "df.info()"
      ],
      "metadata": {
        "colab": {
          "base_uri": "https://localhost:8080/"
        },
        "id": "pl23WyDHy8aN",
        "outputId": "ea9b3d86-a318-4810-d056-5539bc85a332"
      },
      "execution_count": null,
      "outputs": [
        {
          "output_type": "stream",
          "name": "stderr",
          "text": [
            "/usr/local/lib/python3.10/dist-packages/ipykernel/ipkernel.py:283: DeprecationWarning: `should_run_async` will not call `transform_cell` automatically in the future. Please pass the result to `transformed_cell` argument and any exception that happen during thetransform in `preprocessing_exc_tuple` in IPython 7.17 and above.\n",
            "  and should_run_async(code)\n"
          ]
        },
        {
          "output_type": "stream",
          "name": "stdout",
          "text": [
            "<class 'pandas.core.frame.DataFrame'>\n",
            "RangeIndex: 1597 entries, 0 to 1596\n",
            "Data columns (total 27 columns):\n",
            " #   Column                Non-Null Count  Dtype  \n",
            "---  ------                --------------  -----  \n",
            " 0   id                    1597 non-null   object \n",
            " 1   asins                 1597 non-null   object \n",
            " 2   brand                 1597 non-null   object \n",
            " 3   categories            1597 non-null   object \n",
            " 4   colors                774 non-null    object \n",
            " 5   dateAdded             1597 non-null   object \n",
            " 6   dateUpdated           1597 non-null   object \n",
            " 7   dimension             565 non-null    object \n",
            " 8   ean                   898 non-null    float64\n",
            " 9   keys                  1597 non-null   object \n",
            " 10  manufacturer          965 non-null    object \n",
            " 11  manufacturerNumber    902 non-null    object \n",
            " 12  name                  1597 non-null   object \n",
            " 13  prices                1597 non-null   object \n",
            " 14  reviews.date          1217 non-null   object \n",
            " 15  reviews.doRecommend   539 non-null    object \n",
            " 16  reviews.numHelpful    900 non-null    float64\n",
            " 17  reviews.rating        1177 non-null   float64\n",
            " 18  reviews.sourceURLs    1597 non-null   object \n",
            " 19  reviews.text          1597 non-null   object \n",
            " 20  reviews.title         1580 non-null   object \n",
            " 21  reviews.userCity      0 non-null      float64\n",
            " 22  reviews.userProvince  0 non-null      float64\n",
            " 23  reviews.username      1580 non-null   object \n",
            " 24  sizes                 0 non-null      float64\n",
            " 25  upc                   898 non-null    float64\n",
            " 26  weight                686 non-null    object \n",
            "dtypes: float64(7), object(20)\n",
            "memory usage: 337.0+ KB\n"
          ]
        }
      ]
    },
    {
      "cell_type": "code",
      "source": [
        "df[df['asins']=='B01BH83OOM']['keys'][852]"
      ],
      "metadata": {
        "colab": {
          "base_uri": "https://localhost:8080/",
          "height": 125
        },
        "id": "eflDoA3Zzra8",
        "outputId": "ea9fc1c8-1ba9-430d-8252-d2869313a597"
      },
      "execution_count": null,
      "outputs": [
        {
          "output_type": "stream",
          "name": "stderr",
          "text": [
            "/usr/local/lib/python3.10/dist-packages/ipykernel/ipkernel.py:283: DeprecationWarning: `should_run_async` will not call `transform_cell` automatically in the future. Please pass the result to `transformed_cell` argument and any exception that happen during thetransform in `preprocessing_exc_tuple` in IPython 7.17 and above.\n",
            "  and should_run_async(code)\n"
          ]
        },
        {
          "output_type": "execute_result",
          "data": {
            "text/plain": [
              "'amazontapalexaenabledportablebluetoothspeaker/b01bh83oom,amazonamazontapportablebluetoothwifispeakerblack/5097300,841667107929,amazonecho/52353110,0841667107929,tapalexaenabledportablebluetoothspeaker/05743627000p,amazon/53004496,amazon/b01bh83oom,amazontapportablebluetoothwifispeakerblack/1001803403'"
            ],
            "application/vnd.google.colaboratory.intrinsic+json": {
              "type": "string"
            }
          },
          "metadata": {},
          "execution_count": 5
        }
      ]
    },
    {
      "cell_type": "code",
      "source": [
        "df[df['asins']=='B01BH83OOM']['name'][854]"
      ],
      "metadata": {
        "colab": {
          "base_uri": "https://localhost:8080/",
          "height": 90
        },
        "id": "HkSlhpqfztfi",
        "outputId": "1770c15e-61f6-47fa-e51a-7baa07399278"
      },
      "execution_count": null,
      "outputs": [
        {
          "output_type": "stream",
          "name": "stderr",
          "text": [
            "/usr/local/lib/python3.10/dist-packages/ipykernel/ipkernel.py:283: DeprecationWarning: `should_run_async` will not call `transform_cell` automatically in the future. Please pass the result to `transformed_cell` argument and any exception that happen during thetransform in `preprocessing_exc_tuple` in IPython 7.17 and above.\n",
            "  and should_run_async(code)\n"
          ]
        },
        {
          "output_type": "execute_result",
          "data": {
            "text/plain": [
              "'Amazon Tap - Alexa-Enabled Portable Bluetooth Speaker'"
            ],
            "application/vnd.google.colaboratory.intrinsic+json": {
              "type": "string"
            }
          },
          "metadata": {},
          "execution_count": 6
        }
      ]
    },
    {
      "cell_type": "code",
      "source": [
        "# filter for product id = amazon tap\n",
        "df = df[df['asins']==\"B01BH83OOM\"]\n",
        "df.head(3)"
      ],
      "metadata": {
        "colab": {
          "base_uri": "https://localhost:8080/",
          "height": 462
        },
        "id": "nnBVci6ZzxFc",
        "outputId": "cf023e7a-ebad-4ec8-8fe3-2282b3145d68"
      },
      "execution_count": null,
      "outputs": [
        {
          "output_type": "stream",
          "name": "stderr",
          "text": [
            "/usr/local/lib/python3.10/dist-packages/ipykernel/ipkernel.py:283: DeprecationWarning: `should_run_async` will not call `transform_cell` automatically in the future. Please pass the result to `transformed_cell` argument and any exception that happen during thetransform in `preprocessing_exc_tuple` in IPython 7.17 and above.\n",
            "  and should_run_async(code)\n"
          ]
        },
        {
          "output_type": "execute_result",
          "data": {
            "text/plain": [
              "                       id       asins   brand  \\\n",
              "852  AVpfpK8KLJeJML43BCuD  B01BH83OOM  Amazon   \n",
              "853  AVpfpK8KLJeJML43BCuD  B01BH83OOM  Amazon   \n",
              "854  AVpfpK8KLJeJML43BCuD  B01BH83OOM  Amazon   \n",
              "\n",
              "                                            categories colors  \\\n",
              "852  Amazon Devices,Home,Smart Home & Connected Liv...  Black   \n",
              "853  Amazon Devices,Home,Smart Home & Connected Liv...  Black   \n",
              "854  Amazon Devices,Home,Smart Home & Connected Liv...  Black   \n",
              "\n",
              "                dateAdded           dateUpdated                 dimension  \\\n",
              "852  2017-01-04T03:51:17Z  2017-08-13T08:31:07Z  4.8 in x 6.6 in x 3.2 in   \n",
              "853  2017-01-04T03:51:17Z  2017-08-13T08:31:07Z  4.8 in x 6.6 in x 3.2 in   \n",
              "854  2017-01-04T03:51:17Z  2017-08-13T08:31:07Z  4.8 in x 6.6 in x 3.2 in   \n",
              "\n",
              "              ean                                               keys  ...  \\\n",
              "852  8.416670e+11  amazontapalexaenabledportablebluetoothspeaker/...  ...   \n",
              "853  8.416670e+11  amazontapalexaenabledportablebluetoothspeaker/...  ...   \n",
              "854  8.416670e+11  amazontapalexaenabledportablebluetoothspeaker/...  ...   \n",
              "\n",
              "    reviews.rating                                 reviews.sourceURLs  \\\n",
              "852            5.0  https://www.amazon.com/dp/B01BH83OOM,https://w...   \n",
              "853            5.0  https://www.amazon.com/dp/B01BH83OOM,https://w...   \n",
              "854            5.0  https://www.amazon.com/dp/B01BH83OOM,https://w...   \n",
              "\n",
              "                                          reviews.text  \\\n",
              "852  IMPORTANT UPDATE (3/8/17): As you read my orig...   \n",
              "853  It was just a few weeks ago that I was bemoani...   \n",
              "854  The Amazon Tap is a portable Bluetooth speaker...   \n",
              "\n",
              "                                         reviews.title reviews.userCity  \\\n",
              "852           The Echo's Little Sister Is AMAZING!! 3,              NaN   \n",
              "853                               Tap Alexa on the go!              NaN   \n",
              "854  Amazon Tap Review - Best Bluetooth Speaker in ...              NaN   \n",
              "\n",
              "    reviews.userProvince  reviews.username  sizes           upc    weight  \n",
              "852                  NaN          Deanokat    NaN  8.416670e+11  1.75 lbs  \n",
              "853                  NaN         Heather A    NaN  8.416670e+11  1.75 lbs  \n",
              "854                  NaN     Quentin Moore    NaN  8.416670e+11  1.75 lbs  \n",
              "\n",
              "[3 rows x 27 columns]"
            ],
            "text/html": [
              "\n",
              "\n",
              "  <div id=\"df-aba762b6-2449-478b-b312-d6124f64db89\">\n",
              "    <div class=\"colab-df-container\">\n",
              "      <div>\n",
              "<style scoped>\n",
              "    .dataframe tbody tr th:only-of-type {\n",
              "        vertical-align: middle;\n",
              "    }\n",
              "\n",
              "    .dataframe tbody tr th {\n",
              "        vertical-align: top;\n",
              "    }\n",
              "\n",
              "    .dataframe thead th {\n",
              "        text-align: right;\n",
              "    }\n",
              "</style>\n",
              "<table border=\"1\" class=\"dataframe\">\n",
              "  <thead>\n",
              "    <tr style=\"text-align: right;\">\n",
              "      <th></th>\n",
              "      <th>id</th>\n",
              "      <th>asins</th>\n",
              "      <th>brand</th>\n",
              "      <th>categories</th>\n",
              "      <th>colors</th>\n",
              "      <th>dateAdded</th>\n",
              "      <th>dateUpdated</th>\n",
              "      <th>dimension</th>\n",
              "      <th>ean</th>\n",
              "      <th>keys</th>\n",
              "      <th>...</th>\n",
              "      <th>reviews.rating</th>\n",
              "      <th>reviews.sourceURLs</th>\n",
              "      <th>reviews.text</th>\n",
              "      <th>reviews.title</th>\n",
              "      <th>reviews.userCity</th>\n",
              "      <th>reviews.userProvince</th>\n",
              "      <th>reviews.username</th>\n",
              "      <th>sizes</th>\n",
              "      <th>upc</th>\n",
              "      <th>weight</th>\n",
              "    </tr>\n",
              "  </thead>\n",
              "  <tbody>\n",
              "    <tr>\n",
              "      <th>852</th>\n",
              "      <td>AVpfpK8KLJeJML43BCuD</td>\n",
              "      <td>B01BH83OOM</td>\n",
              "      <td>Amazon</td>\n",
              "      <td>Amazon Devices,Home,Smart Home &amp; Connected Liv...</td>\n",
              "      <td>Black</td>\n",
              "      <td>2017-01-04T03:51:17Z</td>\n",
              "      <td>2017-08-13T08:31:07Z</td>\n",
              "      <td>4.8 in x 6.6 in x 3.2 in</td>\n",
              "      <td>8.416670e+11</td>\n",
              "      <td>amazontapalexaenabledportablebluetoothspeaker/...</td>\n",
              "      <td>...</td>\n",
              "      <td>5.0</td>\n",
              "      <td>https://www.amazon.com/dp/B01BH83OOM,https://w...</td>\n",
              "      <td>IMPORTANT UPDATE (3/8/17): As you read my orig...</td>\n",
              "      <td>The Echo's Little Sister Is AMAZING!! 3,</td>\n",
              "      <td>NaN</td>\n",
              "      <td>NaN</td>\n",
              "      <td>Deanokat</td>\n",
              "      <td>NaN</td>\n",
              "      <td>8.416670e+11</td>\n",
              "      <td>1.75 lbs</td>\n",
              "    </tr>\n",
              "    <tr>\n",
              "      <th>853</th>\n",
              "      <td>AVpfpK8KLJeJML43BCuD</td>\n",
              "      <td>B01BH83OOM</td>\n",
              "      <td>Amazon</td>\n",
              "      <td>Amazon Devices,Home,Smart Home &amp; Connected Liv...</td>\n",
              "      <td>Black</td>\n",
              "      <td>2017-01-04T03:51:17Z</td>\n",
              "      <td>2017-08-13T08:31:07Z</td>\n",
              "      <td>4.8 in x 6.6 in x 3.2 in</td>\n",
              "      <td>8.416670e+11</td>\n",
              "      <td>amazontapalexaenabledportablebluetoothspeaker/...</td>\n",
              "      <td>...</td>\n",
              "      <td>5.0</td>\n",
              "      <td>https://www.amazon.com/dp/B01BH83OOM,https://w...</td>\n",
              "      <td>It was just a few weeks ago that I was bemoani...</td>\n",
              "      <td>Tap Alexa on the go!</td>\n",
              "      <td>NaN</td>\n",
              "      <td>NaN</td>\n",
              "      <td>Heather A</td>\n",
              "      <td>NaN</td>\n",
              "      <td>8.416670e+11</td>\n",
              "      <td>1.75 lbs</td>\n",
              "    </tr>\n",
              "    <tr>\n",
              "      <th>854</th>\n",
              "      <td>AVpfpK8KLJeJML43BCuD</td>\n",
              "      <td>B01BH83OOM</td>\n",
              "      <td>Amazon</td>\n",
              "      <td>Amazon Devices,Home,Smart Home &amp; Connected Liv...</td>\n",
              "      <td>Black</td>\n",
              "      <td>2017-01-04T03:51:17Z</td>\n",
              "      <td>2017-08-13T08:31:07Z</td>\n",
              "      <td>4.8 in x 6.6 in x 3.2 in</td>\n",
              "      <td>8.416670e+11</td>\n",
              "      <td>amazontapalexaenabledportablebluetoothspeaker/...</td>\n",
              "      <td>...</td>\n",
              "      <td>5.0</td>\n",
              "      <td>https://www.amazon.com/dp/B01BH83OOM,https://w...</td>\n",
              "      <td>The Amazon Tap is a portable Bluetooth speaker...</td>\n",
              "      <td>Amazon Tap Review - Best Bluetooth Speaker in ...</td>\n",
              "      <td>NaN</td>\n",
              "      <td>NaN</td>\n",
              "      <td>Quentin Moore</td>\n",
              "      <td>NaN</td>\n",
              "      <td>8.416670e+11</td>\n",
              "      <td>1.75 lbs</td>\n",
              "    </tr>\n",
              "  </tbody>\n",
              "</table>\n",
              "<p>3 rows × 27 columns</p>\n",
              "</div>\n",
              "      <button class=\"colab-df-convert\" onclick=\"convertToInteractive('df-aba762b6-2449-478b-b312-d6124f64db89')\"\n",
              "              title=\"Convert this dataframe to an interactive table.\"\n",
              "              style=\"display:none;\">\n",
              "\n",
              "  <svg xmlns=\"http://www.w3.org/2000/svg\" height=\"24px\"viewBox=\"0 0 24 24\"\n",
              "       width=\"24px\">\n",
              "    <path d=\"M0 0h24v24H0V0z\" fill=\"none\"/>\n",
              "    <path d=\"M18.56 5.44l.94 2.06.94-2.06 2.06-.94-2.06-.94-.94-2.06-.94 2.06-2.06.94zm-11 1L8.5 8.5l.94-2.06 2.06-.94-2.06-.94L8.5 2.5l-.94 2.06-2.06.94zm10 10l.94 2.06.94-2.06 2.06-.94-2.06-.94-.94-2.06-.94 2.06-2.06.94z\"/><path d=\"M17.41 7.96l-1.37-1.37c-.4-.4-.92-.59-1.43-.59-.52 0-1.04.2-1.43.59L10.3 9.45l-7.72 7.72c-.78.78-.78 2.05 0 2.83L4 21.41c.39.39.9.59 1.41.59.51 0 1.02-.2 1.41-.59l7.78-7.78 2.81-2.81c.8-.78.8-2.07 0-2.86zM5.41 20L4 18.59l7.72-7.72 1.47 1.35L5.41 20z\"/>\n",
              "  </svg>\n",
              "      </button>\n",
              "\n",
              "\n",
              "\n",
              "    <div id=\"df-235d52c3-8fe6-42d5-9076-f1617b552582\">\n",
              "      <button class=\"colab-df-quickchart\" onclick=\"quickchart('df-235d52c3-8fe6-42d5-9076-f1617b552582')\"\n",
              "              title=\"Suggest charts.\"\n",
              "              style=\"display:none;\">\n",
              "\n",
              "<svg xmlns=\"http://www.w3.org/2000/svg\" height=\"24px\"viewBox=\"0 0 24 24\"\n",
              "     width=\"24px\">\n",
              "    <g>\n",
              "        <path d=\"M19 3H5c-1.1 0-2 .9-2 2v14c0 1.1.9 2 2 2h14c1.1 0 2-.9 2-2V5c0-1.1-.9-2-2-2zM9 17H7v-7h2v7zm4 0h-2V7h2v10zm4 0h-2v-4h2v4z\"/>\n",
              "    </g>\n",
              "</svg>\n",
              "      </button>\n",
              "    </div>\n",
              "\n",
              "<style>\n",
              "  .colab-df-quickchart {\n",
              "    background-color: #E8F0FE;\n",
              "    border: none;\n",
              "    border-radius: 50%;\n",
              "    cursor: pointer;\n",
              "    display: none;\n",
              "    fill: #1967D2;\n",
              "    height: 32px;\n",
              "    padding: 0 0 0 0;\n",
              "    width: 32px;\n",
              "  }\n",
              "\n",
              "  .colab-df-quickchart:hover {\n",
              "    background-color: #E2EBFA;\n",
              "    box-shadow: 0px 1px 2px rgba(60, 64, 67, 0.3), 0px 1px 3px 1px rgba(60, 64, 67, 0.15);\n",
              "    fill: #174EA6;\n",
              "  }\n",
              "\n",
              "  [theme=dark] .colab-df-quickchart {\n",
              "    background-color: #3B4455;\n",
              "    fill: #D2E3FC;\n",
              "  }\n",
              "\n",
              "  [theme=dark] .colab-df-quickchart:hover {\n",
              "    background-color: #434B5C;\n",
              "    box-shadow: 0px 1px 3px 1px rgba(0, 0, 0, 0.15);\n",
              "    filter: drop-shadow(0px 1px 2px rgba(0, 0, 0, 0.3));\n",
              "    fill: #FFFFFF;\n",
              "  }\n",
              "</style>\n",
              "\n",
              "    <script>\n",
              "      async function quickchart(key) {\n",
              "        const containerElement = document.querySelector('#' + key);\n",
              "        const charts = await google.colab.kernel.invokeFunction(\n",
              "            'suggestCharts', [key], {});\n",
              "      }\n",
              "    </script>\n",
              "\n",
              "      <script>\n",
              "\n",
              "function displayQuickchartButton(domScope) {\n",
              "  let quickchartButtonEl =\n",
              "    domScope.querySelector('#df-235d52c3-8fe6-42d5-9076-f1617b552582 button.colab-df-quickchart');\n",
              "  quickchartButtonEl.style.display =\n",
              "    google.colab.kernel.accessAllowed ? 'block' : 'none';\n",
              "}\n",
              "\n",
              "        displayQuickchartButton(document);\n",
              "      </script>\n",
              "      <style>\n",
              "    .colab-df-container {\n",
              "      display:flex;\n",
              "      flex-wrap:wrap;\n",
              "      gap: 12px;\n",
              "    }\n",
              "\n",
              "    .colab-df-convert {\n",
              "      background-color: #E8F0FE;\n",
              "      border: none;\n",
              "      border-radius: 50%;\n",
              "      cursor: pointer;\n",
              "      display: none;\n",
              "      fill: #1967D2;\n",
              "      height: 32px;\n",
              "      padding: 0 0 0 0;\n",
              "      width: 32px;\n",
              "    }\n",
              "\n",
              "    .colab-df-convert:hover {\n",
              "      background-color: #E2EBFA;\n",
              "      box-shadow: 0px 1px 2px rgba(60, 64, 67, 0.3), 0px 1px 3px 1px rgba(60, 64, 67, 0.15);\n",
              "      fill: #174EA6;\n",
              "    }\n",
              "\n",
              "    [theme=dark] .colab-df-convert {\n",
              "      background-color: #3B4455;\n",
              "      fill: #D2E3FC;\n",
              "    }\n",
              "\n",
              "    [theme=dark] .colab-df-convert:hover {\n",
              "      background-color: #434B5C;\n",
              "      box-shadow: 0px 1px 3px 1px rgba(0, 0, 0, 0.15);\n",
              "      filter: drop-shadow(0px 1px 2px rgba(0, 0, 0, 0.3));\n",
              "      fill: #FFFFFF;\n",
              "    }\n",
              "  </style>\n",
              "\n",
              "      <script>\n",
              "        const buttonEl =\n",
              "          document.querySelector('#df-aba762b6-2449-478b-b312-d6124f64db89 button.colab-df-convert');\n",
              "        buttonEl.style.display =\n",
              "          google.colab.kernel.accessAllowed ? 'block' : 'none';\n",
              "\n",
              "        async function convertToInteractive(key) {\n",
              "          const element = document.querySelector('#df-aba762b6-2449-478b-b312-d6124f64db89');\n",
              "          const dataTable =\n",
              "            await google.colab.kernel.invokeFunction('convertToInteractive',\n",
              "                                                     [key], {});\n",
              "          if (!dataTable) return;\n",
              "\n",
              "          const docLinkHtml = 'Like what you see? Visit the ' +\n",
              "            '<a target=\"_blank\" href=https://colab.research.google.com/notebooks/data_table.ipynb>data table notebook</a>'\n",
              "            + ' to learn more about interactive tables.';\n",
              "          element.innerHTML = '';\n",
              "          dataTable['output_type'] = 'display_data';\n",
              "          await google.colab.output.renderOutput(dataTable, element);\n",
              "          const docLink = document.createElement('div');\n",
              "          docLink.innerHTML = docLinkHtml;\n",
              "          element.appendChild(docLink);\n",
              "        }\n",
              "      </script>\n",
              "    </div>\n",
              "  </div>\n"
            ]
          },
          "metadata": {},
          "execution_count": 7
        }
      ]
    },
    {
      "cell_type": "markdown",
      "source": [
        "Preprocessing"
      ],
      "metadata": {
        "id": "jjXxzjVSz4Up"
      }
    },
    {
      "cell_type": "code",
      "source": [
        "# tokenize using gensims simple_preprocess\n",
        "def sent_to_words(sentences, deacc=True):  # deacc=True removes punctuations\n",
        "    for sentence in sentences:\n",
        "        yield(simple_preprocess(str(sentence)))\n",
        "\n",
        "# conver to list\n",
        "data=df['reviews.text'].values.tolist()\n",
        "data_words=list(sent_to_words(data))\n",
        "\n",
        "#sample\n",
        "print(data_words[3])"
      ],
      "metadata": {
        "colab": {
          "base_uri": "https://localhost:8080/"
        },
        "id": "RNrIRur1z0wM",
        "outputId": "55d7e648-d6cb-49ed-ce3d-9d36677011c3"
      },
      "execution_count": null,
      "outputs": [
        {
          "output_type": "stream",
          "name": "stdout",
          "text": [
            "['look', 'at', 'this', 'product', 'as', 'portable', 'speaker', 'first', 'and', 'an', 'echo', 'replacement', 'second', 'the', 'big', 'reason', 'to', 'buy', 'this', 'over', 'standard', 'bluetooth', 'speakers', 'is', 'this', 'has', 'wifi', 'streaming', 'enabled', 'when', 'you', 'are', 'at', 'home', 'you', 'can', 'stream', 'music', 'with', 'ease', 'to', 'it', 'voice', 'recognition', 'is', 'top', 'notch', 'and', 'it', 'really', 'shines', 'when', 'using', 'it', 'with', 'other', 'smart', 'home', 'accessories', 'the', 'only', 'problem', 'is', 'having', 'to', 'tap', 'the', 'microphone', 'button', 'for', 'it', 'to', 'listen', 'to', 'your', 'voice', 'if', 'you', 'want', 'bigger', 'sound', 'and', 'always', 'listening', 'features', 'spend', 'the', 'extra', 'money', 'on', 'the', 'amazon', 'echo']\n"
          ]
        },
        {
          "output_type": "stream",
          "name": "stderr",
          "text": [
            "/usr/local/lib/python3.10/dist-packages/ipykernel/ipkernel.py:283: DeprecationWarning: `should_run_async` will not call `transform_cell` automatically in the future. Please pass the result to `transformed_cell` argument and any exception that happen during thetransform in `preprocessing_exc_tuple` in IPython 7.17 and above.\n",
            "  and should_run_async(code)\n"
          ]
        }
      ]
    },
    {
      "cell_type": "code",
      "source": [
        "import nltk\n",
        "nltk.download('stopwords')"
      ],
      "metadata": {
        "colab": {
          "base_uri": "https://localhost:8080/"
        },
        "id": "jL86p4cx0Bo4",
        "outputId": "9d597990-8bae-4a03-dfeb-03b9ce631a02"
      },
      "execution_count": null,
      "outputs": [
        {
          "output_type": "stream",
          "name": "stderr",
          "text": [
            "/usr/local/lib/python3.10/dist-packages/ipykernel/ipkernel.py:283: DeprecationWarning: `should_run_async` will not call `transform_cell` automatically in the future. Please pass the result to `transformed_cell` argument and any exception that happen during thetransform in `preprocessing_exc_tuple` in IPython 7.17 and above.\n",
            "  and should_run_async(code)\n",
            "[nltk_data] Downloading package stopwords to /root/nltk_data...\n",
            "[nltk_data]   Package stopwords is already up-to-date!\n"
          ]
        },
        {
          "output_type": "execute_result",
          "data": {
            "text/plain": [
              "True"
            ]
          },
          "metadata": {},
          "execution_count": 9
        }
      ]
    },
    {
      "cell_type": "code",
      "source": [
        "# create a list of stop words\n",
        "# string.punctuation (from the 'string' module) contains a list of punctuations\n",
        "from nltk.corpus import stopwords\n",
        "stop_words= stopwords.words('english') + list(string.punctuation)"
      ],
      "metadata": {
        "colab": {
          "base_uri": "https://localhost:8080/"
        },
        "id": "EvT1n8qxz7EX",
        "outputId": "7c997e1e-2b03-427c-8436-bc0f31c33a8f"
      },
      "execution_count": null,
      "outputs": [
        {
          "output_type": "stream",
          "name": "stderr",
          "text": [
            "/usr/local/lib/python3.10/dist-packages/ipykernel/ipkernel.py:283: DeprecationWarning: `should_run_async` will not call `transform_cell` automatically in the future. Please pass the result to `transformed_cell` argument and any exception that happen during thetransform in `preprocessing_exc_tuple` in IPython 7.17 and above.\n",
            "  and should_run_async(code)\n"
          ]
        }
      ]
    },
    {
      "cell_type": "code",
      "source": [
        "# functions for removing stopwords and lemmatization\n",
        "def remove_stopwords(texts):\n",
        "    return [[word for word in simple_preprocess(str(doc)) if word not in stop_words] for doc in texts]\n",
        "\n",
        "def lemmatization(texts,allowed_postags=['NOUN','ADJ','VERB','ADV']):\n",
        "    \"\"\"https://spacy.io/api/annotation\"\"\"\n",
        "    texts_out=[]\n",
        "    for sent in texts:\n",
        "        doc=nlp(' '.join(sent))\n",
        "        texts_out.append([token.lemma_ for token in doc if token.pos_ in allowed_postags])\n",
        "    return texts_out"
      ],
      "metadata": {
        "colab": {
          "base_uri": "https://localhost:8080/"
        },
        "id": "j_jZeirHz9ge",
        "outputId": "6addfab3-2eea-459f-bc12-743460b2b40f"
      },
      "execution_count": null,
      "outputs": [
        {
          "output_type": "stream",
          "name": "stderr",
          "text": [
            "/usr/local/lib/python3.10/dist-packages/ipykernel/ipkernel.py:283: DeprecationWarning: `should_run_async` will not call `transform_cell` automatically in the future. Please pass the result to `transformed_cell` argument and any exception that happen during thetransform in `preprocessing_exc_tuple` in IPython 7.17 and above.\n",
            "  and should_run_async(code)\n"
          ]
        }
      ]
    },
    {
      "cell_type": "code",
      "source": [
        "import spacy\n",
        "nlp = spacy.load('en_core_web_sm', disable=['parser', 'ner'])\n"
      ],
      "metadata": {
        "colab": {
          "base_uri": "https://localhost:8080/"
        },
        "id": "L2Ckx4Xt2MPy",
        "outputId": "3ccdd620-e4d9-4761-b526-f01da2f00267"
      },
      "execution_count": null,
      "outputs": [
        {
          "output_type": "stream",
          "name": "stderr",
          "text": [
            "/usr/local/lib/python3.10/dist-packages/ipykernel/ipkernel.py:283: DeprecationWarning: `should_run_async` will not call `transform_cell` automatically in the future. Please pass the result to `transformed_cell` argument and any exception that happen during thetransform in `preprocessing_exc_tuple` in IPython 7.17 and above.\n",
            "  and should_run_async(code)\n"
          ]
        }
      ]
    },
    {
      "cell_type": "code",
      "source": [
        "!python -m spacy download en_core_web_sm"
      ],
      "metadata": {
        "colab": {
          "base_uri": "https://localhost:8080/"
        },
        "id": "JE7PbjyG38NH",
        "outputId": "586a29bd-2ade-4aae-b7d2-e8f86b047b0f"
      },
      "execution_count": null,
      "outputs": [
        {
          "output_type": "stream",
          "name": "stderr",
          "text": [
            "/usr/local/lib/python3.10/dist-packages/ipykernel/ipkernel.py:283: DeprecationWarning: `should_run_async` will not call `transform_cell` automatically in the future. Please pass the result to `transformed_cell` argument and any exception that happen during thetransform in `preprocessing_exc_tuple` in IPython 7.17 and above.\n",
            "  and should_run_async(code)\n"
          ]
        },
        {
          "output_type": "stream",
          "name": "stdout",
          "text": [
            "2023-08-03 14:49:20.512242: W tensorflow/compiler/tf2tensorrt/utils/py_utils.cc:38] TF-TRT Warning: Could not find TensorRT\n",
            "Collecting en-core-web-sm==3.6.0\n",
            "  Downloading https://github.com/explosion/spacy-models/releases/download/en_core_web_sm-3.6.0/en_core_web_sm-3.6.0-py3-none-any.whl (12.8 MB)\n",
            "\u001b[2K     \u001b[90m━━━━━━━━━━━━━━━━━━━━━━━━━━━━━━━━━━━━━━━━\u001b[0m \u001b[32m12.8/12.8 MB\u001b[0m \u001b[31m24.9 MB/s\u001b[0m eta \u001b[36m0:00:00\u001b[0m\n",
            "\u001b[?25hRequirement already satisfied: spacy<3.7.0,>=3.6.0 in /usr/local/lib/python3.10/dist-packages (from en-core-web-sm==3.6.0) (3.6.0)\n",
            "Requirement already satisfied: spacy-legacy<3.1.0,>=3.0.11 in /usr/local/lib/python3.10/dist-packages (from spacy<3.7.0,>=3.6.0->en-core-web-sm==3.6.0) (3.0.12)\n",
            "Requirement already satisfied: spacy-loggers<2.0.0,>=1.0.0 in /usr/local/lib/python3.10/dist-packages (from spacy<3.7.0,>=3.6.0->en-core-web-sm==3.6.0) (1.0.4)\n",
            "Requirement already satisfied: murmurhash<1.1.0,>=0.28.0 in /usr/local/lib/python3.10/dist-packages (from spacy<3.7.0,>=3.6.0->en-core-web-sm==3.6.0) (1.0.9)\n",
            "Requirement already satisfied: cymem<2.1.0,>=2.0.2 in /usr/local/lib/python3.10/dist-packages (from spacy<3.7.0,>=3.6.0->en-core-web-sm==3.6.0) (2.0.7)\n",
            "Requirement already satisfied: preshed<3.1.0,>=3.0.2 in /usr/local/lib/python3.10/dist-packages (from spacy<3.7.0,>=3.6.0->en-core-web-sm==3.6.0) (3.0.8)\n",
            "Requirement already satisfied: thinc<8.2.0,>=8.1.8 in /usr/local/lib/python3.10/dist-packages (from spacy<3.7.0,>=3.6.0->en-core-web-sm==3.6.0) (8.1.10)\n",
            "Requirement already satisfied: wasabi<1.2.0,>=0.9.1 in /usr/local/lib/python3.10/dist-packages (from spacy<3.7.0,>=3.6.0->en-core-web-sm==3.6.0) (1.1.2)\n",
            "Requirement already satisfied: srsly<3.0.0,>=2.4.3 in /usr/local/lib/python3.10/dist-packages (from spacy<3.7.0,>=3.6.0->en-core-web-sm==3.6.0) (2.4.7)\n",
            "Requirement already satisfied: catalogue<2.1.0,>=2.0.6 in /usr/local/lib/python3.10/dist-packages (from spacy<3.7.0,>=3.6.0->en-core-web-sm==3.6.0) (2.0.9)\n",
            "Requirement already satisfied: typer<0.10.0,>=0.3.0 in /usr/local/lib/python3.10/dist-packages (from spacy<3.7.0,>=3.6.0->en-core-web-sm==3.6.0) (0.9.0)\n",
            "Requirement already satisfied: pathy>=0.10.0 in /usr/local/lib/python3.10/dist-packages (from spacy<3.7.0,>=3.6.0->en-core-web-sm==3.6.0) (0.10.2)\n",
            "Requirement already satisfied: smart-open<7.0.0,>=5.2.1 in /usr/local/lib/python3.10/dist-packages (from spacy<3.7.0,>=3.6.0->en-core-web-sm==3.6.0) (6.3.0)\n",
            "Requirement already satisfied: tqdm<5.0.0,>=4.38.0 in /usr/local/lib/python3.10/dist-packages (from spacy<3.7.0,>=3.6.0->en-core-web-sm==3.6.0) (4.65.0)\n",
            "Requirement already satisfied: numpy>=1.15.0 in /usr/local/lib/python3.10/dist-packages (from spacy<3.7.0,>=3.6.0->en-core-web-sm==3.6.0) (1.25.2)\n",
            "Requirement already satisfied: requests<3.0.0,>=2.13.0 in /usr/local/lib/python3.10/dist-packages (from spacy<3.7.0,>=3.6.0->en-core-web-sm==3.6.0) (2.27.1)\n",
            "Requirement already satisfied: pydantic!=1.8,!=1.8.1,<1.11.0,>=1.7.4 in /usr/local/lib/python3.10/dist-packages (from spacy<3.7.0,>=3.6.0->en-core-web-sm==3.6.0) (1.10.12)\n",
            "Requirement already satisfied: jinja2 in /usr/local/lib/python3.10/dist-packages (from spacy<3.7.0,>=3.6.0->en-core-web-sm==3.6.0) (3.1.2)\n",
            "Requirement already satisfied: setuptools in /usr/local/lib/python3.10/dist-packages (from spacy<3.7.0,>=3.6.0->en-core-web-sm==3.6.0) (67.7.2)\n",
            "Requirement already satisfied: packaging>=20.0 in /usr/local/lib/python3.10/dist-packages (from spacy<3.7.0,>=3.6.0->en-core-web-sm==3.6.0) (23.1)\n",
            "Requirement already satisfied: langcodes<4.0.0,>=3.2.0 in /usr/local/lib/python3.10/dist-packages (from spacy<3.7.0,>=3.6.0->en-core-web-sm==3.6.0) (3.3.0)\n",
            "Requirement already satisfied: typing-extensions>=4.2.0 in /usr/local/lib/python3.10/dist-packages (from pydantic!=1.8,!=1.8.1,<1.11.0,>=1.7.4->spacy<3.7.0,>=3.6.0->en-core-web-sm==3.6.0) (4.7.1)\n",
            "Requirement already satisfied: urllib3<1.27,>=1.21.1 in /usr/local/lib/python3.10/dist-packages (from requests<3.0.0,>=2.13.0->spacy<3.7.0,>=3.6.0->en-core-web-sm==3.6.0) (1.26.16)\n",
            "Requirement already satisfied: certifi>=2017.4.17 in /usr/local/lib/python3.10/dist-packages (from requests<3.0.0,>=2.13.0->spacy<3.7.0,>=3.6.0->en-core-web-sm==3.6.0) (2023.7.22)\n",
            "Requirement already satisfied: charset-normalizer~=2.0.0 in /usr/local/lib/python3.10/dist-packages (from requests<3.0.0,>=2.13.0->spacy<3.7.0,>=3.6.0->en-core-web-sm==3.6.0) (2.0.12)\n",
            "Requirement already satisfied: idna<4,>=2.5 in /usr/local/lib/python3.10/dist-packages (from requests<3.0.0,>=2.13.0->spacy<3.7.0,>=3.6.0->en-core-web-sm==3.6.0) (3.4)\n",
            "Requirement already satisfied: blis<0.8.0,>=0.7.8 in /usr/local/lib/python3.10/dist-packages (from thinc<8.2.0,>=8.1.8->spacy<3.7.0,>=3.6.0->en-core-web-sm==3.6.0) (0.7.10)\n",
            "Requirement already satisfied: confection<1.0.0,>=0.0.1 in /usr/local/lib/python3.10/dist-packages (from thinc<8.2.0,>=8.1.8->spacy<3.7.0,>=3.6.0->en-core-web-sm==3.6.0) (0.1.0)\n",
            "Requirement already satisfied: click<9.0.0,>=7.1.1 in /usr/local/lib/python3.10/dist-packages (from typer<0.10.0,>=0.3.0->spacy<3.7.0,>=3.6.0->en-core-web-sm==3.6.0) (8.1.6)\n",
            "Requirement already satisfied: MarkupSafe>=2.0 in /usr/local/lib/python3.10/dist-packages (from jinja2->spacy<3.7.0,>=3.6.0->en-core-web-sm==3.6.0) (2.1.3)\n",
            "\u001b[38;5;2m✔ Download and installation successful\u001b[0m\n",
            "You can now load the package via spacy.load('en_core_web_sm')\n"
          ]
        }
      ]
    },
    {
      "cell_type": "code",
      "source": [
        "# Call functions\n",
        "data_words_npstops = remove_stopwords(data_words)\n",
        "\n",
        "# Load the 'en_core_web_sm' model\n",
        "nlp = spacy.load(\"en_core_web_sm\", disable=['parser', 'ner'])\n",
        "\n",
        "# Lemmatize the data using the loaded model\n",
        "data_lemmatized = lemmatization(data_words_npstops, allowed_postags=['NOUN', 'ADJ', 'VERB', 'ADV'])\n",
        "\n",
        "print(data_lemmatized[3])"
      ],
      "metadata": {
        "colab": {
          "base_uri": "https://localhost:8080/"
        },
        "id": "jzj7cPar0JlZ",
        "outputId": "d194aa55-fedc-4faa-d486-2813f3e1f958"
      },
      "execution_count": null,
      "outputs": [
        {
          "output_type": "stream",
          "name": "stderr",
          "text": [
            "/usr/local/lib/python3.10/dist-packages/ipykernel/ipkernel.py:283: DeprecationWarning: `should_run_async` will not call `transform_cell` automatically in the future. Please pass the result to `transformed_cell` argument and any exception that happen during thetransform in `preprocessing_exc_tuple` in IPython 7.17 and above.\n",
            "  and should_run_async(code)\n"
          ]
        },
        {
          "output_type": "stream",
          "name": "stdout",
          "text": [
            "['look', 'product', 'portable', 'speaker', 'second', 'big', 'reason', 'buy', 'standard', 'wifi', 'streaming', 'enable', 'home', 'stream', 'music', 'ease', 'voice', 'recognition', 'top', 'notch', 'really', 'shine', 'use', 'smart', 'home', 'accessory', 'problem', 'tap', 'microphone', 'button', 'listen', 'voice', 'want', 'big', 'sound', 'always', 'listen', 'feature', 'spend', 'extra', 'money']\n"
          ]
        }
      ]
    },
    {
      "cell_type": "code",
      "source": [
        "# compare the nostop, lemmatised version with the original one\n",
        "# note that speakers is lemmatised to speaker;\n",
        "print(' '.join(data_words[3]), '\\n')\n",
        "print(' '.join(data_lemmatized[3]))"
      ],
      "metadata": {
        "colab": {
          "base_uri": "https://localhost:8080/"
        },
        "id": "dLwuuPyi0MX6",
        "outputId": "bcbbc822-cc4a-4693-a088-3fa62933193d"
      },
      "execution_count": null,
      "outputs": [
        {
          "output_type": "stream",
          "name": "stdout",
          "text": [
            "look at this product as portable speaker first and an echo replacement second the big reason to buy this over standard bluetooth speakers is this has wifi streaming enabled when you are at home you can stream music with ease to it voice recognition is top notch and it really shines when using it with other smart home accessories the only problem is having to tap the microphone button for it to listen to your voice if you want bigger sound and always listening features spend the extra money on the amazon echo \n",
            "\n",
            "look product portable speaker second big reason buy standard wifi streaming enable home stream music ease voice recognition top notch really shine use smart home accessory problem tap microphone button listen voice want big sound always listen feature spend extra money\n"
          ]
        },
        {
          "output_type": "stream",
          "name": "stderr",
          "text": [
            "/usr/local/lib/python3.10/dist-packages/ipykernel/ipkernel.py:283: DeprecationWarning: `should_run_async` will not call `transform_cell` automatically in the future. Please pass the result to `transformed_cell` argument and any exception that happen during thetransform in `preprocessing_exc_tuple` in IPython 7.17 and above.\n",
            "  and should_run_async(code)\n"
          ]
        }
      ]
    },
    {
      "cell_type": "markdown",
      "source": [
        "Creating Dictionary and Corpus"
      ],
      "metadata": {
        "id": "HhRTifsf-E0h"
      }
    },
    {
      "cell_type": "code",
      "source": [
        "# create dictionary and corpus\n",
        "# create dictionary\n",
        "id2word=corpora.Dictionary(data_lemmatized)\n",
        "\n",
        "#create corpus\n",
        "corpus=[id2word.doc2bow(text) for text in data_lemmatized]\n",
        "\n",
        "# sample\n",
        "print(corpus[2])"
      ],
      "metadata": {
        "colab": {
          "base_uri": "https://localhost:8080/"
        },
        "id": "OgDfoOCs-Bpy",
        "outputId": "8a4ad6c9-db95-4447-ca47-89b9e1f4a9cb"
      },
      "execution_count": null,
      "outputs": [
        {
          "output_type": "stream",
          "name": "stdout",
          "text": [
            "[(3, 2), (13, 2), (16, 2), (17, 3), (20, 2), (24, 4), (29, 1), (31, 1), (35, 1), (48, 2), (51, 1), (56, 1), (60, 5), (70, 1), (82, 1), (85, 5), (88, 1), (90, 2), (95, 1), (96, 1), (97, 2), (99, 2), (100, 1), (108, 2), (112, 1), (116, 1), (120, 1), (128, 2), (131, 1), (134, 1), (141, 1), (142, 1), (143, 2), (144, 1), (145, 1), (146, 1), (147, 1), (148, 1), (149, 1), (150, 1), (151, 1), (152, 1), (153, 1), (154, 2), (155, 1), (156, 1), (157, 1), (158, 1), (159, 1), (160, 1), (161, 1), (162, 1), (163, 2), (164, 1), (165, 1), (166, 3), (167, 1), (168, 1), (169, 1), (170, 1), (171, 1), (172, 1), (173, 1), (174, 1), (175, 1), (176, 1), (177, 1), (178, 1), (179, 2), (180, 1), (181, 1), (182, 2), (183, 2), (184, 5), (185, 1), (186, 3), (187, 2), (188, 1), (189, 3), (190, 1), (191, 1), (192, 1), (193, 1), (194, 6), (195, 1), (196, 1), (197, 2), (198, 1), (199, 2), (200, 1), (201, 1), (202, 1), (203, 1), (204, 1), (205, 1), (206, 2), (207, 1), (208, 1), (209, 2), (210, 1)]\n"
          ]
        },
        {
          "output_type": "stream",
          "name": "stderr",
          "text": [
            "/usr/local/lib/python3.10/dist-packages/ipykernel/ipkernel.py:283: DeprecationWarning: `should_run_async` will not call `transform_cell` automatically in the future. Please pass the result to `transformed_cell` argument and any exception that happen during thetransform in `preprocessing_exc_tuple` in IPython 7.17 and above.\n",
            "  and should_run_async(code)\n"
          ]
        }
      ]
    },
    {
      "cell_type": "code",
      "source": [
        "# human-readable format of corpus (term-frequency)\n",
        "[[(id2word[id], freq) for id, freq in cp] for cp in corpus[:1]]"
      ],
      "metadata": {
        "colab": {
          "base_uri": "https://localhost:8080/"
        },
        "id": "PAbkd2TV-HKf",
        "outputId": "fbba290b-3cdc-48a1-9f3e-db8f14161ce1"
      },
      "execution_count": null,
      "outputs": [
        {
          "output_type": "stream",
          "name": "stderr",
          "text": [
            "/usr/local/lib/python3.10/dist-packages/ipykernel/ipkernel.py:283: DeprecationWarning: `should_run_async` will not call `transform_cell` automatically in the future. Please pass the result to `transformed_cell` argument and any exception that happen during thetransform in `preprocessing_exc_tuple` in IPython 7.17 and above.\n",
            "  and should_run_async(code)\n"
          ]
        },
        {
          "output_type": "execute_result",
          "data": {
            "text/plain": [
              "[[('admit', 1),\n",
              "  ('alexa', 1),\n",
              "  ('allow', 1),\n",
              "  ('amazon', 1),\n",
              "  ('announce', 1),\n",
              "  ('answer', 1),\n",
              "  ('anyway', 1),\n",
              "  ('app', 2),\n",
              "  ('appealing', 1),\n",
              "  ('associate', 1),\n",
              "  ('avid', 1),\n",
              "  ('aware', 1),\n",
              "  ('back', 1),\n",
              "  ('battery', 3),\n",
              "  ('buy', 1),\n",
              "  ('choose', 2),\n",
              "  ('command', 1),\n",
              "  ('control', 1),\n",
              "  ('convenience', 1),\n",
              "  ('cook', 1),\n",
              "  ('day', 1),\n",
              "  ('decide', 2),\n",
              "  ('demand', 1),\n",
              "  ('development', 1),\n",
              "  ('device', 3),\n",
              "  ('dot', 1),\n",
              "  ('drain', 1),\n",
              "  ('early', 2),\n",
              "  ('easily', 2),\n",
              "  ('echo', 1),\n",
              "  ('enable', 1),\n",
              "  ('especially', 1),\n",
              "  ('fabulous', 1),\n",
              "  ('financial', 1),\n",
              "  ('firmware', 1),\n",
              "  ('first', 1),\n",
              "  ('free', 6),\n",
              "  ('get', 1),\n",
              "  ('give', 1),\n",
              "  ('go', 1),\n",
              "  ('hand', 6),\n",
              "  ('high', 1),\n",
              "  ('hope', 1),\n",
              "  ('important', 1),\n",
              "  ('introduce', 1),\n",
              "  ('keep', 1),\n",
              "  ('kitchen', 1),\n",
              "  ('lack', 1),\n",
              "  ('life', 1),\n",
              "  ('listener', 1),\n",
              "  ('little', 2),\n",
              "  ('lot', 1),\n",
              "  ('love', 1),\n",
              "  ('major', 1),\n",
              "  ('make', 1),\n",
              "  ('maximum', 1),\n",
              "  ('microphone', 1),\n",
              "  ('mind', 1),\n",
              "  ('minimal', 1),\n",
              "  ('mode', 2),\n",
              "  ('music', 2),\n",
              "  ('new', 1),\n",
              "  ('operation', 1),\n",
              "  ('option', 2),\n",
              "  ('original', 1),\n",
              "  ('owner', 2),\n",
              "  ('pick', 1),\n",
              "  ('power', 1),\n",
              "  ('question', 1),\n",
              "  ('quickly', 2),\n",
              "  ('read', 2),\n",
              "  ('regular', 1),\n",
              "  ('require', 1),\n",
              "  ('respond', 1),\n",
              "  ('review', 1),\n",
              "  ('risk', 1),\n",
              "  ('sell', 1),\n",
              "  ('set', 1),\n",
              "  ('setting', 1),\n",
              "  ('shortcoming', 1),\n",
              "  ('skeptical', 1),\n",
              "  ('soon', 1),\n",
              "  ('sound', 1),\n",
              "  ('start', 1),\n",
              "  ('stream', 1),\n",
              "  ('tap', 7),\n",
              "  ('thank', 1),\n",
              "  ('thing', 1),\n",
              "  ('think', 1),\n",
              "  ('thrill', 1),\n",
              "  ('time', 1),\n",
              "  ('today', 1),\n",
              "  ('toggle', 1),\n",
              "  ('touch', 1),\n",
              "  ('try', 1),\n",
              "  ('update', 2),\n",
              "  ('use', 4),\n",
              "  ('voice', 2),\n",
              "  ('want', 2),\n",
              "  ('well', 1),\n",
              "  ('whole', 1),\n",
              "  ('wonderful', 1)]]"
            ]
          },
          "metadata": {},
          "execution_count": 19
        }
      ]
    },
    {
      "cell_type": "markdown",
      "source": [
        "Building the Topic Model"
      ],
      "metadata": {
        "id": "P72eRvGM-NQg"
      }
    },
    {
      "cell_type": "code",
      "source": [
        "# Build LDA model\n",
        "lda_model= gensim.models.ldamodel.LdaModel(corpus=corpus,id2word=id2word,num_topics=10,random_state=100,\\\n",
        "                                          update_every=1,chunksize=100,passes=10,alpha='auto',per_word_topics=True)"
      ],
      "metadata": {
        "colab": {
          "base_uri": "https://localhost:8080/"
        },
        "id": "bcgYS0Fn-JlJ",
        "outputId": "7e10467f-6526-4d5c-d4c8-83b8faf88e1e"
      },
      "execution_count": null,
      "outputs": [
        {
          "output_type": "stream",
          "name": "stderr",
          "text": [
            "/usr/local/lib/python3.10/dist-packages/ipykernel/ipkernel.py:283: DeprecationWarning: `should_run_async` will not call `transform_cell` automatically in the future. Please pass the result to `transformed_cell` argument and any exception that happen during thetransform in `preprocessing_exc_tuple` in IPython 7.17 and above.\n",
            "  and should_run_async(code)\n"
          ]
        }
      ]
    },
    {
      "cell_type": "code",
      "source": [
        "# print the 10 topics\n",
        "lda_model.print_topics()"
      ],
      "metadata": {
        "colab": {
          "base_uri": "https://localhost:8080/"
        },
        "id": "0RJdCf4t-RY0",
        "outputId": "f19897fe-f33b-46ce-ff79-384f88ddea38"
      },
      "execution_count": null,
      "outputs": [
        {
          "output_type": "stream",
          "name": "stderr",
          "text": [
            "/usr/local/lib/python3.10/dist-packages/ipykernel/ipkernel.py:283: DeprecationWarning: `should_run_async` will not call `transform_cell` automatically in the future. Please pass the result to `transformed_cell` argument and any exception that happen during thetransform in `preprocessing_exc_tuple` in IPython 7.17 and above.\n",
            "  and should_run_async(code)\n"
          ]
        },
        {
          "output_type": "execute_result",
          "data": {
            "text/plain": [
              "[(0,\n",
              "  '0.068*\"amazing\" + 0.033*\"easy\" + 0.031*\"little\" + 0.030*\"super\" + 0.026*\"sync\" + 0.024*\"able\" + 0.022*\"beach\" + 0.021*\"weather\" + 0.017*\"difficult\" + 0.016*\"assistant\"'),\n",
              " (1,\n",
              "  '0.061*\"easy\" + 0.057*\"sound\" + 0.043*\"portability\" + 0.038*\"buy\" + 0.037*\"echo\" + 0.035*\"feature\" + 0.028*\"house\" + 0.028*\"quality\" + 0.020*\"need\" + 0.020*\"room\"'),\n",
              " (2,\n",
              "  '0.064*\"loud\" + 0.044*\"decent\" + 0.042*\"expensive\" + 0.035*\"capability\" + 0.031*\"glad\" + 0.023*\"upgrade\" + 0.022*\"mother\" + 0.018*\"issue\" + 0.015*\"size\" + 0.015*\"online\"'),\n",
              " (3,\n",
              "  '0.043*\"enjoy\" + 0.039*\"talk\" + 0.033*\"button\" + 0.030*\"alexa\" + 0.024*\"thing\" + 0.024*\"fun\" + 0.022*\"put\" + 0.021*\"tap\" + 0.020*\"hold\" + 0.020*\"lot\"'),\n",
              " (4,\n",
              "  '0.057*\"great\" + 0.048*\"speaker\" + 0.043*\"use\" + 0.037*\"sound\" + 0.035*\"tap\" + 0.032*\"love\" + 0.031*\"good\" + 0.031*\"music\" + 0.028*\"alexa\" + 0.026*\"work\"'),\n",
              " (5,\n",
              "  '0.070*\"set\" + 0.037*\"start\" + 0.034*\"actually\" + 0.030*\"radio\" + 0.027*\"come\" + 0.027*\"new\" + 0.018*\"station\" + 0.017*\"week\" + 0.016*\"ago\" + 0.016*\"enjoy\"'),\n",
              " (6,\n",
              "  '0.045*\"time\" + 0.031*\"ask\" + 0.030*\"question\" + 0.021*\"wish\" + 0.017*\"able\" + 0.016*\"size\" + 0.016*\"tap\" + 0.016*\"free\" + 0.015*\"make\" + 0.015*\"music\"'),\n",
              " (7,\n",
              "  '0.031*\"pleased\" + 0.026*\"produce\" + 0.024*\"useless\" + 0.021*\"otherwise\" + 0.020*\"ready\" + 0.019*\"follow\" + 0.019*\"unable\" + 0.019*\"avail\" + 0.017*\"come\" + 0.014*\"black\"'),\n",
              " (8,\n",
              "  '0.098*\"gift\" + 0.046*\"daughter\" + 0.033*\"learn\" + 0.032*\"love\" + 0.024*\"fun\" + 0.024*\"convenient\" + 0.022*\"movie\" + 0.019*\"buy\" + 0.018*\"benefit\" + 0.016*\"area\"'),\n",
              " (9,\n",
              "  '0.071*\"tap\" + 0.026*\"echo\" + 0.024*\"add\" + 0.024*\"need\" + 0.023*\"excellent\" + 0.022*\"app\" + 0.017*\"push\" + 0.015*\"first\" + 0.015*\"button\" + 0.015*\"thing\"')]"
            ]
          },
          "metadata": {},
          "execution_count": 21
        }
      ]
    },
    {
      "cell_type": "code",
      "source": [
        "# coherence score\n",
        "coherence_model_lda=CoherenceModel(model=lda_model,texts=data_lemmatized,dictionary=id2word,coherence='c_v')\n",
        "coherence_lda=coherence_model_lda.get_coherence()\n",
        "print('\\nCoherence Score:',coherence_lda)"
      ],
      "metadata": {
        "colab": {
          "base_uri": "https://localhost:8080/"
        },
        "id": "ZQHrmWhu-Vaw",
        "outputId": "86a8ef34-f56a-48f7-95d4-6745ec8851f5"
      },
      "execution_count": null,
      "outputs": [
        {
          "output_type": "stream",
          "name": "stderr",
          "text": [
            "/usr/local/lib/python3.10/dist-packages/ipykernel/ipkernel.py:283: DeprecationWarning: `should_run_async` will not call `transform_cell` automatically in the future. Please pass the result to `transformed_cell` argument and any exception that happen during thetransform in `preprocessing_exc_tuple` in IPython 7.17 and above.\n",
            "  and should_run_async(code)\n"
          ]
        },
        {
          "output_type": "stream",
          "name": "stdout",
          "text": [
            "\n",
            "Coherence Score: 0.4395692084830964\n"
          ]
        }
      ]
    },
    {
      "cell_type": "code",
      "source": [
        "# visulaise the topics\n",
        "pyLDAvis.enable_notebook()\n",
        "vis=pyLDAvis.gensim.prepare(lda_model,corpus,id2word)\n",
        "vis\n"
      ],
      "metadata": {
        "colab": {
          "base_uri": "https://localhost:8080/",
          "height": 916
        },
        "id": "B1PRgqV7-ZaS",
        "outputId": "3f53de25-e300-43f0-cb78-c3a142cc5dd8"
      },
      "execution_count": null,
      "outputs": [
        {
          "output_type": "stream",
          "name": "stderr",
          "text": [
            "/usr/local/lib/python3.10/dist-packages/ipykernel/ipkernel.py:283: DeprecationWarning: `should_run_async` will not call `transform_cell` automatically in the future. Please pass the result to `transformed_cell` argument and any exception that happen during thetransform in `preprocessing_exc_tuple` in IPython 7.17 and above.\n",
            "  and should_run_async(code)\n"
          ]
        },
        {
          "output_type": "execute_result",
          "data": {
            "text/plain": [
              "PreparedData(topic_coordinates=              x         y  topics  cluster       Freq\n",
              "topic                                                \n",
              "4      0.323406 -0.008689       1        1  46.543196\n",
              "6      0.002890 -0.143587       2        1  14.356977\n",
              "9      0.047303 -0.145590       3        1  11.812837\n",
              "1      0.158946  0.255861       4        1   9.647423\n",
              "3      0.068182 -0.139447       5        1   7.020614\n",
              "5     -0.122254  0.000295       6        1   3.472706\n",
              "8     -0.098321  0.066386       7        1   2.434911\n",
              "0     -0.125367  0.054601       8        1   1.986343\n",
              "2     -0.131949  0.027343       9        1   1.878914\n",
              "7     -0.122838  0.032827      10        1   0.846080, topic_info=        Term        Freq       Total Category  logprob  loglift\n",
              "82     sound  199.000000  199.000000  Default  30.0000  30.0000\n",
              "85       tap  249.000000  249.000000  Default  29.0000  29.0000\n",
              "52      love  156.000000  156.000000  Default  28.0000  28.0000\n",
              "388     easy   57.000000   57.000000  Default  27.0000  27.0000\n",
              "194  speaker  196.000000  196.000000  Default  26.0000  26.0000\n",
              "..       ...         ...         ...      ...      ...      ...\n",
              "988  opposed    0.349115    1.034819  Topic10  -5.3524   3.6857\n",
              "987    cloud    0.740884    2.680409  Topic10  -4.5999   3.4864\n",
              "108     come    1.275888   10.097987  Topic10  -4.0564   2.7036\n",
              "256   pretty    0.717054   19.660754  Topic10  -4.6326   1.4611\n",
              "304     feel    0.435574    7.723698  Topic10  -5.1311   1.8969\n",
              "\n",
              "[468 rows x 6 columns], token_table=      Topic      Freq       Term\n",
              "term                            \n",
              "102       2  0.184422    ability\n",
              "102       4  0.737686    ability\n",
              "277       2  0.575168       able\n",
              "277       3  0.301279       able\n",
              "277       8  0.109556       able\n",
              "...     ...       ...        ...\n",
              "1316      6  0.887561  worldwide\n",
              "307       1  0.944962      worth\n",
              "141       5  0.634397       year\n",
              "141       6  0.380638       year\n",
              "679       5  0.860518        yet\n",
              "\n",
              "[533 rows x 3 columns], R=30, lambda_step=0.01, plot_opts={'xlab': 'PC1', 'ylab': 'PC2'}, topic_order=[5, 7, 10, 2, 4, 6, 9, 1, 3, 8])"
            ],
            "text/html": [
              "\n",
              "<link rel=\"stylesheet\" type=\"text/css\" href=\"https://cdn.jsdelivr.net/gh/bmabey/pyLDAvis@3.4.0/pyLDAvis/js/ldavis.v1.0.0.css\">\n",
              "\n",
              "\n",
              "<div id=\"ldavis_el190771389459655851521406884161\" style=\"background-color:white;\"></div>\n",
              "<script type=\"text/javascript\">\n",
              "\n",
              "var ldavis_el190771389459655851521406884161_data = {\"mdsDat\": {\"x\": [0.32340629874324506, 0.0028895466141678466, 0.047303258057495426, 0.1589461025879202, 0.06818213947574961, -0.122253824681454, -0.09832057022660899, -0.12536651654177283, -0.13194869141377857, -0.12283774261496365], \"y\": [-0.00868862298869289, -0.14358716471302085, -0.1455901445945888, 0.2558612293762726, -0.1394473154236673, 0.00029505380266941193, 0.06638597053853905, 0.05460077617987906, 0.02734322693732628, 0.032826990885283965], \"topics\": [1, 2, 3, 4, 5, 6, 7, 8, 9, 10], \"cluster\": [1, 1, 1, 1, 1, 1, 1, 1, 1, 1], \"Freq\": [46.54319613392933, 14.356976920840529, 11.81283691650346, 9.647423245233124, 7.020614090347956, 3.472705824978624, 2.4349109186720486, 1.9863425829267454, 1.8789136221766725, 0.8460797443915153]}, \"tinfo\": {\"Term\": [\"sound\", \"tap\", \"love\", \"easy\", \"speaker\", \"great\", \"time\", \"echo\", \"buy\", \"button\", \"portability\", \"quality\", \"gift\", \"set\", \"alexa\", \"use\", \"ask\", \"enjoy\", \"question\", \"able\", \"feature\", \"talk\", \"little\", \"get\", \"need\", \"weather\", \"well\", \"fun\", \"house\", \"pretty\", \"speaker\", \"connect\", \"want\", \"portable\", \"recommend\", \"wifi\", \"stream\", \"small\", \"function\", \"prime\", \"control\", \"much\", \"smart\", \"worth\", \"already\", \"great\", \"also\", \"extra\", \"old\", \"service\", \"rechargeable\", \"work\", \"month\", \"look\", \"option\", \"sale\", \"office\", \"apple\", \"name\", \"big\", \"listen\", \"good\", \"pretty\", \"price\", \"use\", \"device\", \"home\", \"nice\", \"go\", \"voice\", \"music\", \"love\", \"phone\", \"sound\", \"alexa\", \"well\", \"get\", \"amazon\", \"tap\", \"really\", \"product\", \"purchase\", \"quality\", \"buy\", \"play\", \"take\", \"dot\", \"ask\", \"question\", \"wish\", \"free\", \"answer\", \"time\", \"keep\", \"volume\", \"kid\", \"understand\", \"update\", \"favorite\", \"read\", \"mobile\", \"song\", \"decide\", \"disappoint\", \"high\", \"network\", \"alarm\", \"system\", \"clock\", \"kitchen\", \"mode\", \"tell\", \"quickly\", \"sure\", \"source\", \"bonus\", \"help\", \"size\", \"seem\", \"like\", \"long\", \"try\", \"full\", \"able\", \"hand\", \"make\", \"little\", \"battery\", \"get\", \"music\", \"alexa\", \"tap\", \"play\", \"add\", \"push\", \"first\", \"easily\", \"call\", \"place\", \"return\", \"skill\", \"case\", \"deck\", \"certain\", \"several\", \"mean\", \"never\", \"touch\", \"garage\", \"remember\", \"hot\", \"stand\", \"wake\", \"offer\", \"regular\", \"member\", \"blue\", \"tooth\", \"bose\", \"invest\", \"available\", \"app\", \"simply\", \"excellent\", \"microphone\", \"operate\", \"speak\", \"need\", \"issue\", \"tap\", \"thing\", \"awesome\", \"echo\", \"hand\", \"review\", \"feel\", \"command\", \"button\", \"battery\", \"able\", \"alexa\", \"last\", \"house\", \"anywhere\", \"perfect\", \"feature\", \"carry\", \"know\", \"information\", \"activation\", \"bedroom\", \"original\", \"compact\", \"impressed\", \"wife\", \"mini\", \"instruction\", \"easy\", \"computer\", \"event\", \"cell\", \"personal\", \"tub\", \"interface\", \"clear\", \"portability\", \"rest\", \"one\", \"serve\", \"compliment\", \"slightly\", \"appliance\", \"room\", \"bring\", \"ability\", \"respond\", \"echo\", \"buy\", \"sound\", \"quality\", \"need\", \"dot\", \"move\", \"well\", \"make\", \"product\", \"bass\", \"take\", \"love\", \"great\", \"good\", \"talk\", \"put\", \"hold\", \"base\", \"press\", \"mostly\", \"enough\", \"star\", \"connection\", \"unit\", \"definitely\", \"daily\", \"useful\", \"everyday\", \"manually\", \"outside\", \"mom\", \"yet\", \"alternative\", \"point\", \"maybe\", \"application\", \"additional\", \"enjoy\", \"supposedly\", \"dad\", \"science\", \"valid\", \"teenager\", \"annoying\", \"still\", \"wireless\", \"see\", \"family\", \"fun\", \"lot\", \"instead\", \"thing\", \"button\", \"hit\", \"find\", \"alexa\", \"get\", \"tap\", \"really\", \"make\", \"use\", \"love\", \"play\", \"start\", \"actually\", \"station\", \"week\", \"ago\", \"gathering\", \"radio\", \"come\", \"deal\", \"weight\", \"worldwide\", \"interest\", \"notice\", \"vacation\", \"cooking\", \"fit\", \"setup\", \"surprised\", \"minimal\", \"early\", \"set\", \"realize\", \"joke\", \"responsive\", \"currently\", \"spot\", \"current\", \"automate\", \"half\", \"new\", \"part\", \"year\", \"enjoy\", \"timer\", \"last\", \"say\", \"request\", \"item\", \"excellent\", \"use\", \"play\", \"gift\", \"daughter\", \"learn\", \"convenient\", \"movie\", \"benefit\", \"area\", \"living\", \"absolutely\", \"simple\", \"dual\", \"moment\", \"watch\", \"cover\", \"usage\", \"ideal\", \"handy\", \"basement\", \"entertain\", \"girlfriend\", \"probably\", \"schedule\", \"traffic\", \"tool\", \"sleep\", \"technology\", \"toy\", \"helpful\", \"informative\", \"integration\", \"friend\", \"fun\", \"hear\", \"love\", \"still\", \"buy\", \"amazing\", \"super\", \"sync\", \"beach\", \"difficult\", \"assistant\", \"away\", \"hype\", \"pill\", \"therefore\", \"cradle\", \"quick\", \"provide\", \"incredible\", \"cylinder\", \"amazed\", \"form\", \"date\", \"ton\", \"general\", \"flash\", \"pull\", \"terrific\", \"helper\", \"balanced\", \"beef\", \"mention\", \"multipurpose\", \"pass\", \"scream\", \"little\", \"weather\", \"easy\", \"pair\", \"able\", \"set\", \"time\", \"charge\", \"loud\", \"decent\", \"expensive\", \"capability\", \"glad\", \"upgrade\", \"mother\", \"online\", \"bit\", \"connectivity\", \"penny\", \"potential\", \"opt\", \"lake\", \"flawless\", \"cute\", \"ai\", \"share\", \"powerful\", \"machine\", \"def\", \"crack\", \"freedom\", \"knock\", \"max\", \"used\", \"player\", \"effortlessly\", \"downside\", \"productive\", \"wait\", \"issue\", \"pair\", \"size\", \"operate\", \"fact\", \"make\", \"soundlink\", \"drop\", \"pleased\", \"produce\", \"useless\", \"otherwise\", \"ready\", \"avail\", \"follow\", \"unable\", \"black\", \"college\", \"link\", \"model\", \"bad\", \"dorm\", \"graduation\", \"teenage\", \"essentially\", \"student\", \"supplement\", \"connected\", \"interactive\", \"tinny\", \"dancing\", \"grandmother\", \"interruption\", \"nonstop\", \"novelty\", \"company\", \"iffy\", \"opposed\", \"cloud\", \"come\", \"pretty\", \"feel\"], \"Freq\": [199.0, 249.0, 156.0, 57.0, 196.0, 240.0, 58.0, 93.0, 97.0, 63.0, 42.0, 72.0, 21.0, 28.0, 161.0, 192.0, 39.0, 31.0, 37.0, 36.0, 30.0, 24.0, 24.0, 113.0, 44.0, 21.0, 83.0, 24.0, 24.0, 19.0, 195.3272010377179, 46.72941708539556, 56.61878345970501, 96.41722526159123, 36.2591157791259, 39.00621317908917, 22.473044485208685, 34.79418948669544, 19.017395038376552, 18.02773795282002, 18.008871500726194, 31.68476482893827, 16.635774024806445, 15.255569297920298, 14.473775467550201, 229.7162290761757, 51.09031073480944, 11.26225428591594, 10.634101304634546, 10.543617664458951, 10.406326607738158, 103.41771548216597, 10.331656577363212, 17.310253935085967, 15.70347148224584, 9.659361044655247, 9.59427055775314, 9.635753907961442, 9.254533766538719, 9.160102387813321, 57.732710295058375, 127.60560586311946, 18.360561953647014, 35.13782587330661, 173.59757934591798, 66.27769328029838, 25.81696783357105, 31.3401466995983, 36.58236212444684, 47.79056769720937, 125.06188024535842, 130.62762143461225, 37.664167092900946, 150.66058023878466, 113.48845504968564, 63.78232226786376, 82.6204699636313, 28.07187418035628, 143.417599564199, 39.63699798607043, 48.156840805586285, 33.57122501757575, 48.002012425389104, 51.09225911653273, 39.51156902466691, 36.30626963757635, 36.12709026177163, 39.21827153669604, 37.08388654754272, 26.374135317917723, 19.520456683859603, 17.13658547873422, 56.01710170548332, 13.88868023171846, 13.816293611160694, 12.964771268408372, 12.438929316131361, 11.459726376543053, 11.164592608819042, 10.450589470482218, 9.728098829667363, 9.240818115834163, 8.808011397252075, 8.038653715856617, 7.970722247896417, 7.680308030061384, 13.92642731286405, 7.238649243573023, 6.818498070232462, 6.061923473741127, 6.059196221503952, 5.907046063008897, 5.799721145747118, 5.473415286789482, 5.471098607438749, 5.349223103556034, 5.127460166571475, 20.269432478900868, 7.352125183283884, 13.544473394911941, 15.973788321278263, 14.630415967009016, 10.038468636902154, 21.256661681639454, 17.851671830643784, 18.71937132749482, 13.948001898894034, 12.634076647362468, 17.513973593239932, 18.464382852471534, 18.14334746815546, 19.98301683331876, 12.332352748031393, 25.049287011017558, 17.688635533993757, 15.841318132409416, 9.443577293101795, 8.944900016811873, 8.525175120314609, 8.49190230430639, 8.389875827015821, 6.845360793034623, 6.695984354819658, 6.291116696911509, 6.146483592399492, 6.0843937902753344, 5.566102524848853, 14.009780856646422, 5.482562542584023, 5.480988459220634, 5.480403388965931, 5.443796966273053, 5.410243354876417, 5.335890556881377, 5.194497141142533, 5.159897015875077, 5.081518685357714, 5.081518685357714, 4.979492208067146, 4.838360899969025, 4.806833711264557, 22.453236852163744, 4.669572683630999, 24.091929988577384, 10.05298187033903, 11.062730712196627, 11.506914516213168, 25.044134942730448, 10.401106817828367, 73.15356593338035, 15.075007392155907, 7.41012657028203, 26.60351152785792, 13.329594757915618, 7.5647973911703845, 6.199436044247709, 11.630245984220021, 15.115778307546261, 11.630818116803244, 10.544753305096787, 10.81809563639414, 6.956644413855575, 23.47627614392785, 15.120400948642908, 14.243688429057173, 29.493109630275736, 12.227645822281781, 10.650998862942394, 9.874219395352853, 8.063105993973052, 7.803318566216711, 7.7557219692723915, 6.113114202171869, 6.003327317022746, 5.817925372171156, 5.263441023400331, 5.2636719114686485, 51.285552746837176, 5.134328806933058, 4.915292340563286, 4.915393305176211, 4.838726726423628, 4.484128831102062, 4.328770902638467, 4.071147952688673, 36.43586218826055, 3.7518293628702666, 3.588574671134514, 3.5371750737700136, 3.438030954563187, 3.4371164030112253, 3.4356958543875113, 16.407524445040952, 5.932793360166094, 8.143858117527722, 7.108563845907548, 31.169980012707406, 31.77930223438211, 48.0906379274907, 23.47445408486669, 16.77084208263073, 16.399539631234266, 7.810656893432108, 16.016910359076157, 11.31871385110165, 13.72116603298421, 6.1438293593008195, 9.865231979459677, 9.117976443100854, 9.273979292812902, 8.278447077242621, 23.90800983288949, 13.215626558637375, 12.390291656012105, 9.78725574174049, 8.678323067097752, 7.21607274641183, 7.200246245586297, 5.722570967353425, 5.6556562006284485, 10.967418207049406, 5.332455439608896, 5.017060566012021, 4.966885882266972, 4.933556081449736, 4.904101600444532, 8.9715641430155, 4.478002953636978, 4.0052913974001525, 3.8397294079908186, 3.838910658397962, 3.5114504060182865, 3.4212865682457907, 3.2026841291251773, 26.49665284127486, 3.1309252126351614, 3.1306427084278177, 3.1302628086167323, 3.129691819770236, 3.128702200697131, 2.8061595719590016, 10.632629077879413, 9.232300717705611, 5.016647631434754, 9.316167445566021, 14.410422286234757, 12.192671989065985, 5.236018413651551, 14.410757190416044, 19.992549362557817, 6.653428026200843, 7.504805146310758, 18.19133443216957, 11.57933257232506, 12.825110057179197, 8.310644980369565, 7.477512164230696, 7.713395773018689, 6.503017887952529, 5.853969597664378, 11.090633832114147, 10.138502596001926, 5.35051165242034, 5.231700771381158, 4.7720657620337645, 3.069191784476519, 9.059357007239061, 8.203263693264395, 2.811107265681223, 2.727091128595275, 2.727091128595275, 2.7267448799995444, 2.7267448799995444, 2.7267448799995444, 2.7241120947049122, 2.6863118340557834, 2.548182873308989, 2.363613495742302, 2.2063583147620136, 2.167563962843531, 21.313197360585846, 1.9810461269464348, 1.9739950799735713, 1.6212460824127213, 1.533857331869091, 1.5146506771570936, 1.4926198002743054, 1.4924176575831445, 1.405408963472094, 8.123756112954263, 3.2288247833152015, 2.6470860096195126, 4.766872878293726, 2.281310148190727, 2.9677809518677045, 3.75160522513363, 2.420125267159574, 2.862873262000787, 2.836208175881893, 3.2664799519978525, 2.4732182210754696, 20.6944666313469, 9.750594292460502, 7.072478842265488, 5.054857447315792, 4.770683255283938, 3.8174730586568923, 3.49592107253401, 2.928994173774443, 2.910137961824453, 2.8920580752281704, 2.506729677299577, 2.506729677299577, 2.506332625401116, 2.324453225167351, 2.3238428319503144, 1.9830267173747944, 1.8737161568076823, 1.81460954941969, 1.7063773502026764, 1.560929041958759, 1.2557429029680078, 1.246853780129804, 1.2465266567746542, 1.2464828032813915, 1.138830082544047, 3.2756321358879923, 1.057667340965683, 0.9430960402822224, 0.9430237412798161, 0.9424803135322212, 2.437744181631969, 5.152314132100397, 2.0217610066831018, 6.716592336453411, 2.1583298714634545, 3.9795788792707905, 11.747196646333318, 5.185909190328255, 4.521556725230019, 3.74090155070673, 2.9019694879375386, 2.8388733367273398, 2.2910364562757097, 2.2010213389338404, 2.2010213389338404, 2.2010213389338404, 1.8050916364548224, 1.7215965277913252, 1.6328520547507153, 1.3950480328367398, 1.3935090787369262, 1.3705934881761108, 1.325413099319621, 1.222861710224778, 1.1988635339422298, 1.0952136861435775, 1.0952207766127284, 1.0510616570345181, 0.9232422530909982, 0.9232246074916338, 0.7241814409265854, 0.7241814409265854, 0.7241814409265854, 0.7241814409265854, 0.7241814409265854, 0.7241814409265854, 5.2837206007956725, 3.5949822739321147, 5.647752699769852, 1.5203466138500625, 4.225126126023375, 2.6019532062518436, 1.4764021421106952, 1.0239787238037312, 10.428715224595443, 7.253595244843729, 6.8302738396760185, 5.672978513535149, 5.048942517698317, 3.747929208362349, 3.525682132397652, 2.4904770344174563, 2.229394506971733, 1.854204593322927, 1.4100253650422698, 1.196877997237632, 1.1876768458596467, 1.186945631560037, 1.186563485583568, 1.0074095800527216, 1.0056386299312152, 1.0055178279023553, 0.8980290972123446, 0.8207923956120682, 0.7850671581333848, 0.7848996358245937, 0.7848996358245937, 0.7848996358245937, 0.784074752317748, 0.7594011094086515, 0.7593044677855636, 0.7590305482324264, 1.8233089980933235, 0.5985522171764636, 1.6658921410413083, 3.003578659865397, 1.362032891126293, 2.5048993485632933, 1.4780885053809316, 1.1637414291029393, 1.6652394290065096, 0.8550320348910441, 0.8212174510789145, 2.269800759182645, 1.8825526776375583, 1.757038869743718, 1.5340748578816128, 1.4800381602937802, 1.3926266063783836, 1.3926266063783836, 1.3926266063783836, 1.0063026297608988, 0.8824498495089689, 0.8670210106605333, 0.8666814468874628, 0.6648962753433919, 0.4579527477596757, 0.4579527477596757, 0.4579527477596757, 0.45788685303112353, 0.45788685303112353, 0.45788685303112353, 0.4576225190731502, 0.4576225190731502, 0.4576225190731502, 0.4572185020187148, 0.4572185020187148, 0.4572185020187148, 0.4572185020187148, 0.34926972338438955, 0.34921786560582585, 0.34921786560582585, 0.3491149394126342, 0.7408844975818751, 1.2758883289594778, 0.7170535317203007, 0.43557376537771403], \"Total\": [199.0, 249.0, 156.0, 57.0, 196.0, 240.0, 58.0, 93.0, 97.0, 63.0, 42.0, 72.0, 21.0, 28.0, 161.0, 192.0, 39.0, 31.0, 37.0, 36.0, 30.0, 24.0, 24.0, 113.0, 44.0, 21.0, 83.0, 24.0, 24.0, 19.0, 196.44891440661976, 47.34677699320967, 57.51882873010921, 98.1898252589585, 36.92608156041645, 39.75841467746055, 23.09033386530809, 35.85380301192115, 19.634713728789386, 18.645175493195314, 18.62615468811542, 32.82240615031514, 17.29759585537925, 15.87366187434225, 15.091158152794936, 240.28814147045895, 53.78810676501451, 11.885175966402317, 11.25163832634311, 11.16089909036502, 11.023679795952571, 109.59650340282789, 10.94903512855324, 18.360384537037735, 16.674474597877186, 10.278070939645474, 10.211543250562217, 10.256262277289352, 9.871779412573558, 9.777351157918982, 62.19654786555744, 138.87884468959334, 19.660753601878437, 37.88136434430968, 192.1195428714701, 72.42701050710147, 27.793094210149434, 33.995173034028404, 39.995781369971006, 53.49056060350211, 148.24741593552585, 156.28580223609464, 42.81463321093833, 199.31644288359456, 161.14903992877925, 83.33707591333226, 113.39910847248154, 32.253889248166104, 249.7630089459726, 50.33679041155952, 65.43578806767157, 40.70693291347088, 72.43598221717635, 97.07014626460604, 60.638482963204595, 48.16741752611865, 57.49435573043614, 39.84428558670573, 37.70989474366664, 27.000294887541727, 20.146478230295113, 17.762594490709983, 58.06567815195232, 14.514758328406755, 14.442411950155991, 13.590800475452188, 13.06500342288452, 12.085747943633784, 11.790611985173323, 11.076700002058526, 10.354296990488827, 9.86689777804062, 9.434046306591423, 8.664837446764539, 8.596828762712178, 8.306405707104448, 15.118868212447227, 7.864756333786949, 7.444507193856035, 6.68796597163572, 6.685190841369588, 6.5331496112636875, 6.425726019659818, 6.099555870639607, 6.097259591095881, 5.975233827568833, 5.753647690972262, 23.341964618472204, 8.318581246786199, 16.04992068467211, 19.443569060857914, 17.784233923954098, 11.97195020013165, 36.51106306549162, 31.719634311111278, 39.618463044500466, 24.987902497281347, 41.3082342932172, 113.39910847248154, 148.24741593552585, 161.14903992877925, 249.7630089459726, 60.638482963204595, 25.681435989565806, 18.320740243943632, 16.47339172417689, 10.075760408139889, 9.57694315506945, 9.15744525061856, 9.124119600154708, 9.022074710438142, 7.477685882273566, 7.32826997526093, 6.92331273936596, 6.778737904057256, 6.7164373506236, 6.198381373169526, 15.609240479261238, 6.114638336869771, 6.113096051927255, 6.112617286790015, 6.075833160999002, 6.0423635789517265, 5.968128361658448, 5.8265931847593455, 5.791957652814687, 5.713548464557314, 5.713548464557314, 5.6117490367843, 5.470491946544708, 5.43901854941779, 25.448697812818352, 5.30185520646417, 27.493544086805393, 11.83316177806602, 13.114488211641453, 15.123984962482844, 44.23500992881526, 15.3426945409131, 249.7630089459726, 31.185367681742175, 10.192908438659359, 93.53292952087574, 31.719634311111278, 11.195467783839142, 7.723698193366181, 33.01636336179348, 63.093650555302055, 41.3082342932172, 36.51106306549162, 161.14903992877925, 16.326356762330928, 24.112585565158444, 15.75598079121002, 14.879283717817433, 30.912285982928967, 12.863210935223238, 11.286597125303404, 10.509881040211404, 8.698793045437334, 8.438880548656249, 8.391312437687295, 6.748646539818906, 6.639030052416119, 6.453486644374323, 5.899178371756617, 5.899443543129669, 57.59147124332009, 5.770066463294483, 5.551031536587508, 5.551201632490539, 5.474490999654973, 5.120026535849191, 4.964410066744126, 4.706651018420027, 42.53889342105225, 4.388178622840494, 4.224133742690591, 4.172715658650988, 4.073515645780991, 4.0727153018530995, 4.071393015481783, 22.333700298961883, 7.5254218684493495, 10.844719982262061, 9.425972672057748, 93.53292952087574, 97.07014626460604, 199.31644288359456, 72.43598221717635, 44.23500992881526, 57.49435573043614, 13.9640926496256, 83.33707591333226, 39.618463044500466, 65.43578806767157, 9.69543960043739, 48.16741752611865, 156.28580223609464, 240.28814147045895, 138.87884468959334, 24.55109613957113, 13.858685609207932, 13.03339557823571, 10.430373631576076, 9.32141464874344, 7.859259990287181, 7.843336458793041, 6.365671707035194, 6.298825532986278, 12.258148203286062, 5.975807960605623, 5.660090756031159, 5.6101448939238745, 5.57665513338061, 5.547168487542056, 10.259498162475237, 5.121004318187387, 4.64836252254291, 4.4828650282749, 4.482263541899002, 4.154688264237449, 4.064395768490506, 3.8460218773181163, 31.839783311689263, 3.7739535867612544, 3.773671114810668, 3.7733557646953133, 3.7728575808336826, 3.7718946579996437, 3.449293897927532, 13.372678593728335, 11.912278609128741, 6.398772522679381, 13.546005822271027, 24.144028002775375, 20.590004126388457, 7.443165066954881, 31.185367681742175, 63.093650555302055, 12.817425223147488, 16.595441473016958, 161.14903992877925, 113.39910847248154, 249.7630089459726, 50.33679041155952, 39.618463044500466, 192.1195428714701, 156.28580223609464, 60.638482963204595, 11.743892055454367, 10.791652485762576, 6.003438345749951, 5.884641003394241, 5.425038563583385, 3.722116831093193, 11.02049861695562, 10.097986898927676, 3.464510421586951, 3.380050658185781, 3.380050658185781, 3.3798009067760733, 3.3798009067760733, 3.3798009067760733, 3.377528550738067, 3.3395633003971463, 3.2011175558037026, 3.0168158131123737, 2.8593241464725834, 2.8205104705258552, 28.029901038304097, 2.634173469891517, 2.6271292259725523, 2.2742109469739256, 2.1868090257716197, 2.167734980883581, 2.1456519790807134, 2.14543543204549, 2.058343761839219, 12.05500426141936, 6.973157615907307, 7.881497416291398, 31.839783311689263, 7.2073949096837495, 16.326356762330928, 36.813086839110596, 9.354205317200835, 24.4708428023746, 27.493544086805393, 192.1195428714701, 60.638482963204595, 21.352810811034328, 10.40895027312338, 7.730869606048424, 5.713349345347396, 5.429089447949103, 4.475977880648016, 4.154588962974407, 3.5874057645189845, 3.568455160430249, 3.550625856124445, 3.165080528387988, 3.165080528387988, 3.164716364651397, 2.9829132232091657, 2.982429414844387, 2.641455164790966, 2.5322805754711157, 2.472986571334135, 2.364777601829688, 2.219299260268252, 1.914319863271097, 1.905255060927683, 1.9050096995937702, 1.9049888060474103, 1.7971910564203997, 5.225444462847032, 1.7161683980437703, 1.6014054738349013, 1.6013360475881344, 1.6009183461929843, 6.284407100638943, 24.144028002775375, 6.578477651968314, 156.28580223609464, 13.372678593728335, 97.07014626460604, 12.829135694983702, 5.851975151350285, 5.187508150149126, 4.406910995604781, 3.568562917479335, 3.504999310113662, 2.9569045914689656, 2.8668744290362715, 2.8668744290362715, 2.8668744290362715, 2.470898808030693, 2.3874343795817845, 2.298730813708896, 2.0608382901870748, 2.0596774886354194, 2.0364905924885175, 1.9915439364622485, 1.8887065365834885, 1.8646768990647298, 1.7610190628325204, 1.7610312363876168, 1.7168552818977019, 1.5890307247728563, 1.5890065679230632, 1.3899988970396253, 1.3899988970396253, 1.3899988970396253, 1.3899988970396253, 1.3899988970396253, 1.3899988970396253, 24.987902497281347, 21.12874469546839, 57.59147124332009, 5.4133168557545295, 36.51106306549162, 28.029901038304097, 58.06567815195232, 37.55886955917932, 11.090162521613237, 7.914900242035288, 7.491729651705261, 6.33434841902281, 5.710387336741026, 4.409264667182958, 4.187000083957647, 3.1519792278072845, 2.890810413186534, 2.515556593138281, 2.0712576787343138, 1.858163785374186, 1.8489160504269597, 1.8483633387766711, 1.8481692961100618, 1.6687591960281676, 1.6674504097036964, 1.6672855355740692, 1.559270799801166, 1.4821408088112062, 1.4463436020900842, 1.4462316113349432, 1.4462316113349432, 1.4462316113349432, 1.4455469280880036, 1.4206402695537461, 1.4205640823411487, 1.4203494618486059, 3.6423542930775765, 1.259825779617534, 4.069998267494109, 15.3426945409131, 5.4133168557545295, 23.341964618472204, 13.114488211641453, 6.353879756201847, 39.618463044500466, 2.265758227378578, 3.6076016740429284, 2.9554913684499953, 2.5682028781239286, 2.44266943475228, 2.2198499252957697, 2.166250614335757, 2.078272623402059, 2.078272623402059, 2.078272623402059, 1.6927887591961603, 1.5681021019058847, 1.5527062018780162, 1.552603981272354, 1.3505198934011098, 1.143657104742566, 1.143657104742566, 1.143657104742566, 1.1436148573542957, 1.1436148573542957, 1.1436148573542957, 1.1434186518797493, 1.1434186518797493, 1.1434186518797493, 1.1432435303896231, 1.1432435303896231, 1.1432435303896231, 1.1432435303896231, 1.0349259292758537, 1.034895425732707, 1.034895425732707, 1.0348194082683408, 2.680408819401186, 10.097986898927676, 19.660753601878437, 7.723698193366181], \"Category\": [\"Default\", \"Default\", \"Default\", \"Default\", \"Default\", \"Default\", \"Default\", \"Default\", \"Default\", \"Default\", \"Default\", \"Default\", \"Default\", \"Default\", \"Default\", \"Default\", \"Default\", \"Default\", \"Default\", \"Default\", \"Default\", \"Default\", \"Default\", \"Default\", \"Default\", \"Default\", \"Default\", \"Default\", \"Default\", \"Default\", \"Topic1\", \"Topic1\", \"Topic1\", \"Topic1\", \"Topic1\", \"Topic1\", \"Topic1\", \"Topic1\", \"Topic1\", \"Topic1\", \"Topic1\", \"Topic1\", \"Topic1\", \"Topic1\", \"Topic1\", \"Topic1\", \"Topic1\", \"Topic1\", \"Topic1\", \"Topic1\", \"Topic1\", \"Topic1\", \"Topic1\", \"Topic1\", \"Topic1\", \"Topic1\", \"Topic1\", \"Topic1\", \"Topic1\", \"Topic1\", \"Topic1\", \"Topic1\", \"Topic1\", \"Topic1\", \"Topic1\", \"Topic1\", \"Topic1\", \"Topic1\", \"Topic1\", \"Topic1\", \"Topic1\", \"Topic1\", \"Topic1\", \"Topic1\", \"Topic1\", \"Topic1\", \"Topic1\", \"Topic1\", \"Topic1\", \"Topic1\", \"Topic1\", \"Topic1\", \"Topic1\", \"Topic1\", \"Topic1\", \"Topic1\", \"Topic1\", \"Topic2\", \"Topic2\", \"Topic2\", \"Topic2\", \"Topic2\", \"Topic2\", \"Topic2\", \"Topic2\", \"Topic2\", \"Topic2\", \"Topic2\", \"Topic2\", \"Topic2\", \"Topic2\", \"Topic2\", \"Topic2\", \"Topic2\", \"Topic2\", \"Topic2\", \"Topic2\", \"Topic2\", \"Topic2\", \"Topic2\", \"Topic2\", \"Topic2\", \"Topic2\", \"Topic2\", \"Topic2\", \"Topic2\", \"Topic2\", \"Topic2\", \"Topic2\", \"Topic2\", \"Topic2\", \"Topic2\", \"Topic2\", \"Topic2\", \"Topic2\", \"Topic2\", \"Topic2\", \"Topic2\", \"Topic2\", \"Topic2\", \"Topic2\", \"Topic2\", \"Topic2\", \"Topic3\", \"Topic3\", \"Topic3\", \"Topic3\", \"Topic3\", \"Topic3\", \"Topic3\", \"Topic3\", \"Topic3\", \"Topic3\", \"Topic3\", \"Topic3\", \"Topic3\", \"Topic3\", \"Topic3\", \"Topic3\", \"Topic3\", \"Topic3\", \"Topic3\", \"Topic3\", \"Topic3\", \"Topic3\", \"Topic3\", \"Topic3\", \"Topic3\", \"Topic3\", \"Topic3\", \"Topic3\", \"Topic3\", \"Topic3\", \"Topic3\", \"Topic3\", \"Topic3\", \"Topic3\", \"Topic3\", \"Topic3\", \"Topic3\", \"Topic3\", \"Topic3\", \"Topic3\", \"Topic3\", \"Topic3\", \"Topic3\", \"Topic3\", \"Topic3\", \"Topic3\", \"Topic3\", \"Topic3\", \"Topic3\", \"Topic4\", \"Topic4\", \"Topic4\", \"Topic4\", \"Topic4\", \"Topic4\", \"Topic4\", \"Topic4\", \"Topic4\", \"Topic4\", \"Topic4\", \"Topic4\", \"Topic4\", \"Topic4\", \"Topic4\", \"Topic4\", \"Topic4\", \"Topic4\", \"Topic4\", \"Topic4\", \"Topic4\", \"Topic4\", \"Topic4\", \"Topic4\", \"Topic4\", \"Topic4\", \"Topic4\", \"Topic4\", \"Topic4\", \"Topic4\", \"Topic4\", \"Topic4\", \"Topic4\", \"Topic4\", \"Topic4\", \"Topic4\", \"Topic4\", \"Topic4\", \"Topic4\", \"Topic4\", \"Topic4\", \"Topic4\", \"Topic4\", \"Topic4\", \"Topic4\", \"Topic4\", \"Topic4\", \"Topic4\", \"Topic4\", \"Topic5\", \"Topic5\", \"Topic5\", \"Topic5\", \"Topic5\", \"Topic5\", \"Topic5\", \"Topic5\", \"Topic5\", \"Topic5\", \"Topic5\", \"Topic5\", \"Topic5\", \"Topic5\", \"Topic5\", \"Topic5\", \"Topic5\", \"Topic5\", \"Topic5\", \"Topic5\", \"Topic5\", \"Topic5\", \"Topic5\", \"Topic5\", \"Topic5\", \"Topic5\", \"Topic5\", \"Topic5\", \"Topic5\", \"Topic5\", \"Topic5\", \"Topic5\", \"Topic5\", \"Topic5\", \"Topic5\", \"Topic5\", \"Topic5\", \"Topic5\", \"Topic5\", \"Topic5\", \"Topic5\", \"Topic5\", \"Topic5\", \"Topic5\", \"Topic5\", \"Topic5\", \"Topic5\", \"Topic5\", \"Topic5\", \"Topic6\", \"Topic6\", \"Topic6\", \"Topic6\", \"Topic6\", \"Topic6\", \"Topic6\", \"Topic6\", \"Topic6\", \"Topic6\", \"Topic6\", \"Topic6\", \"Topic6\", \"Topic6\", \"Topic6\", \"Topic6\", \"Topic6\", \"Topic6\", \"Topic6\", \"Topic6\", \"Topic6\", \"Topic6\", \"Topic6\", \"Topic6\", \"Topic6\", \"Topic6\", \"Topic6\", \"Topic6\", \"Topic6\", \"Topic6\", \"Topic6\", \"Topic6\", \"Topic6\", \"Topic6\", \"Topic6\", \"Topic6\", \"Topic6\", \"Topic6\", \"Topic6\", \"Topic6\", \"Topic6\", \"Topic7\", \"Topic7\", \"Topic7\", \"Topic7\", \"Topic7\", \"Topic7\", \"Topic7\", \"Topic7\", \"Topic7\", \"Topic7\", \"Topic7\", \"Topic7\", \"Topic7\", \"Topic7\", \"Topic7\", \"Topic7\", \"Topic7\", \"Topic7\", \"Topic7\", \"Topic7\", \"Topic7\", \"Topic7\", \"Topic7\", \"Topic7\", \"Topic7\", \"Topic7\", \"Topic7\", \"Topic7\", \"Topic7\", \"Topic7\", \"Topic7\", \"Topic7\", \"Topic7\", \"Topic7\", \"Topic7\", \"Topic7\", \"Topic8\", \"Topic8\", \"Topic8\", \"Topic8\", \"Topic8\", \"Topic8\", \"Topic8\", \"Topic8\", \"Topic8\", \"Topic8\", \"Topic8\", \"Topic8\", \"Topic8\", \"Topic8\", \"Topic8\", \"Topic8\", \"Topic8\", \"Topic8\", \"Topic8\", \"Topic8\", \"Topic8\", \"Topic8\", \"Topic8\", \"Topic8\", \"Topic8\", \"Topic8\", \"Topic8\", \"Topic8\", \"Topic8\", \"Topic8\", \"Topic8\", \"Topic8\", \"Topic8\", \"Topic8\", \"Topic8\", \"Topic8\", \"Topic8\", \"Topic8\", \"Topic9\", \"Topic9\", \"Topic9\", \"Topic9\", \"Topic9\", \"Topic9\", \"Topic9\", \"Topic9\", \"Topic9\", \"Topic9\", \"Topic9\", \"Topic9\", \"Topic9\", \"Topic9\", \"Topic9\", \"Topic9\", \"Topic9\", \"Topic9\", \"Topic9\", \"Topic9\", \"Topic9\", \"Topic9\", \"Topic9\", \"Topic9\", \"Topic9\", \"Topic9\", \"Topic9\", \"Topic9\", \"Topic9\", \"Topic9\", \"Topic9\", \"Topic9\", \"Topic9\", \"Topic9\", \"Topic9\", \"Topic9\", \"Topic9\", \"Topic9\", \"Topic9\", \"Topic10\", \"Topic10\", \"Topic10\", \"Topic10\", \"Topic10\", \"Topic10\", \"Topic10\", \"Topic10\", \"Topic10\", \"Topic10\", \"Topic10\", \"Topic10\", \"Topic10\", \"Topic10\", \"Topic10\", \"Topic10\", \"Topic10\", \"Topic10\", \"Topic10\", \"Topic10\", \"Topic10\", \"Topic10\", \"Topic10\", \"Topic10\", \"Topic10\", \"Topic10\", \"Topic10\", \"Topic10\", \"Topic10\", \"Topic10\", \"Topic10\", \"Topic10\", \"Topic10\", \"Topic10\"], \"logprob\": [30.0, 29.0, 28.0, 27.0, 26.0, 25.0, 24.0, 23.0, 22.0, 21.0, 20.0, 19.0, 18.0, 17.0, 16.0, 15.0, 14.0, 13.0, 12.0, 11.0, 10.0, 9.0, 8.0, 7.0, 6.0, 5.0, 4.0, 3.0, 2.0, 1.0, -3.0329, -4.4632, -4.2712, -3.7389, -4.7169, -4.6438, -5.1952, -4.7581, -5.3622, -5.4156, -5.4167, -4.8517, -5.496, -5.5826, -5.6352, -2.8707, -4.374, -5.8861, -5.9435, -5.952, -5.9651, -3.6688, -5.9723, -5.4563, -5.5537, -6.0396, -6.0464, -6.0421, -6.0824, -6.0927, -4.2517, -3.4586, -5.3973, -4.7483, -3.1508, -4.1137, -5.0565, -4.8627, -4.708, -4.4407, -3.4787, -3.4352, -4.6788, -3.2925, -3.5759, -4.1521, -3.8933, -4.9728, -3.3418, -4.6278, -4.4331, -4.7939, -4.4363, -4.3739, -4.631, -4.7156, -4.7205, -3.4623, -3.5182, -3.859, -4.1599, -4.2902, -3.1058, -4.5003, -4.5056, -4.5692, -4.6106, -4.6926, -4.7187, -4.7847, -4.8564, -4.9078, -4.9557, -5.0471, -5.0556, -5.0927, -4.4976, -5.152, -5.2118, -5.3294, -5.3298, -5.3553, -5.3736, -5.4315, -5.4319, -5.4545, -5.4968, -4.1223, -5.1364, -4.5254, -4.3605, -4.4483, -4.825, -4.0747, -4.2493, -4.2018, -4.4961, -4.595, -4.2684, -4.2156, -4.2331, -4.1365, -4.6192, -3.7155, -4.0634, -4.1737, -4.691, -4.7453, -4.7933, -4.7972, -4.8093, -5.0128, -5.0349, -5.0972, -5.1205, -5.1306, -5.2197, -4.2966, -5.2348, -5.2351, -5.2352, -5.2419, -5.2481, -5.2619, -5.2888, -5.2954, -5.3107, -5.3107, -5.331, -5.3598, -5.3663, -3.8249, -5.3953, -3.7545, -4.6285, -4.5328, -4.4934, -3.7157, -4.5944, -2.6438, -4.2233, -4.9335, -3.6553, -4.3464, -4.9129, -5.1119, -4.4827, -4.2206, -4.4827, -4.5807, -4.5551, -4.9967, -3.5779, -4.0178, -4.0775, -3.3497, -4.2302, -4.3682, -4.4439, -4.6466, -4.6793, -4.6854, -4.9234, -4.9415, -4.9729, -5.0731, -5.073, -2.7965, -5.0979, -5.1415, -5.1415, -5.1572, -5.2333, -5.2686, -5.3299, -3.1383, -5.4116, -5.4561, -5.4705, -5.499, -5.4992, -5.4996, -3.9361, -4.9534, -4.6366, -4.7726, -3.2944, -3.275, -2.8608, -3.5779, -3.9142, -3.9366, -4.6784, -3.9602, -4.3074, -4.1149, -4.9184, -4.4448, -4.5236, -4.5066, -4.6202, -3.2418, -3.8346, -3.8991, -4.1349, -4.2552, -4.4397, -4.4419, -4.6716, -4.6834, -4.0211, -4.7422, -4.8032, -4.8132, -4.82, -4.826, -4.222, -4.9168, -5.0284, -5.0706, -5.0708, -5.16, -5.186, -5.252, -3.139, -5.2747, -5.2748, -5.2749, -5.2751, -5.2754, -5.3842, -4.0521, -4.1933, -4.8033, -4.1843, -3.7481, -3.9152, -4.7605, -3.748, -3.4207, -4.5209, -4.4005, -3.5151, -3.9668, -3.8646, -4.2985, -4.4041, -4.3731, -4.5438, -4.6489, -3.306, -3.3958, -4.0349, -4.0574, -4.1493, -4.5907, -3.5083, -3.6076, -4.6785, -4.7089, -4.7089, -4.709, -4.709, -4.709, -4.71, -4.7239, -4.7767, -4.8519, -4.9208, -4.9385, -2.6528, -5.0285, -5.032, -5.2289, -5.2843, -5.2969, -5.3116, -5.3117, -5.3718, -3.6173, -4.54, -4.7386, -4.1504, -4.8874, -4.6243, -4.3899, -4.8283, -4.6603, -4.6696, -4.5284, -4.8066, -2.3272, -3.0798, -3.4009, -3.7367, -3.7946, -4.0175, -4.1055, -4.2824, -4.2889, -4.2951, -4.4381, -4.4381, -4.4383, -4.5136, -4.5139, -4.6725, -4.7292, -4.7612, -4.8227, -4.9118, -5.1294, -5.1365, -5.1367, -5.1368, -5.2271, -4.1706, -5.301, -5.4157, -5.4157, -5.4163, -4.466, -3.7176, -4.6531, -3.4525, -4.5877, -3.9759, -2.6899, -3.5075, -3.6446, -3.8341, -4.0881, -4.1101, -4.3245, -4.3645, -4.3645, -4.3645, -4.5629, -4.6102, -4.6631, -4.8205, -4.8216, -4.8382, -4.8717, -4.9523, -4.9721, -5.0625, -5.0625, -5.1037, -5.2333, -5.2333, -5.4762, -5.4762, -5.4762, -5.4762, -5.4762, -5.4762, -3.4888, -3.8739, -3.4222, -4.7345, -3.7124, -4.1972, -4.7639, -5.1298, -2.7533, -3.1164, -3.1765, -3.3622, -3.4787, -3.7767, -3.8378, -4.1854, -4.2961, -4.4804, -4.7543, -4.9181, -4.9259, -4.9265, -4.9268, -5.0905, -5.0922, -5.0924, -5.2054, -5.2954, -5.3399, -5.3401, -5.3401, -5.3401, -5.3411, -5.3731, -5.3732, -5.3736, -4.4972, -5.6111, -4.5875, -3.9981, -4.7889, -4.1796, -4.7071, -4.9462, -4.5879, -5.2545, -5.2948, -3.4803, -3.6674, -3.7364, -3.8721, -3.908, -3.9688, -3.9688, -3.9688, -4.2937, -4.4251, -4.4427, -4.4431, -4.7082, -5.081, -5.081, -5.081, -5.0812, -5.0812, -5.0812, -5.0817, -5.0817, -5.0817, -5.0826, -5.0826, -5.0826, -5.0826, -5.3519, -5.3521, -5.3521, -5.3524, -4.5999, -4.0564, -4.6326, -5.1311], \"loglift\": [30.0, 29.0, 28.0, 27.0, 26.0, 25.0, 24.0, 23.0, 22.0, 21.0, 20.0, 19.0, 18.0, 17.0, 16.0, 15.0, 14.0, 13.0, 12.0, 11.0, 10.0, 9.0, 8.0, 7.0, 6.0, 5.0, 4.0, 3.0, 2.0, 1.0, 0.7591, 0.7517, 0.749, 0.7466, 0.7466, 0.7457, 0.7377, 0.7348, 0.7328, 0.7311, 0.7311, 0.7295, 0.7258, 0.7251, 0.723, 0.7198, 0.7133, 0.711, 0.7083, 0.7079, 0.7072, 0.7068, 0.7068, 0.7059, 0.7048, 0.7027, 0.7024, 0.7024, 0.7002, 0.6996, 0.6903, 0.6801, 0.6964, 0.6896, 0.6634, 0.6761, 0.691, 0.6835, 0.6756, 0.6521, 0.5947, 0.5855, 0.6366, 0.4849, 0.4142, 0.4974, 0.4481, 0.6259, 0.21, 0.5258, 0.4582, 0.5721, 0.3533, 0.123, 0.3365, 0.4821, 0.3001, 1.9251, 1.9242, 1.9175, 1.9094, 1.9051, 1.905, 1.8968, 1.8966, 1.8938, 1.8918, 1.8877, 1.8864, 1.8827, 1.8786, 1.8754, 1.8723, 1.8659, 1.8653, 1.8626, 1.8588, 1.858, 1.8531, 1.8427, 1.8426, 1.8402, 1.8384, 1.8326, 1.8326, 1.8303, 1.8257, 1.7998, 1.8174, 1.7712, 1.7444, 1.7457, 1.7648, 1.4, 1.3661, 1.1912, 1.3579, 0.7563, 0.073, -0.1421, -0.2431, -0.5847, 0.3482, 2.1111, 2.1009, 2.0969, 2.0712, 2.0677, 2.0644, 2.0642, 2.0633, 2.0476, 2.0458, 2.0402, 2.0381, 2.0372, 2.0284, 2.0279, 2.0269, 2.0268, 2.0268, 2.0261, 2.0255, 2.024, 2.0212, 2.0204, 2.0188, 2.0188, 2.0164, 2.0132, 2.0124, 2.0108, 2.009, 2.0039, 1.9729, 1.9658, 1.8626, 1.5671, 1.7473, 0.908, 1.4091, 1.8171, 0.8787, 1.269, 1.744, 1.9161, 1.0926, 0.7071, 0.8686, 0.894, -0.5651, 1.2829, 2.3117, 2.2973, 2.2948, 2.2915, 2.2878, 2.2805, 2.2761, 2.2626, 2.2602, 2.2597, 2.2396, 2.2378, 2.2348, 2.2245, 2.2245, 2.2225, 2.2217, 2.2168, 2.2168, 2.215, 2.2059, 2.2015, 2.1934, 2.1836, 2.1818, 2.1754, 2.1732, 2.1689, 2.1688, 2.1687, 2.0301, 2.1007, 2.0521, 2.0563, 1.2396, 1.2219, 0.9167, 1.2117, 1.3686, 1.084, 1.7575, 0.6892, 1.0856, 0.7763, 1.8823, 0.7528, -0.503, -0.9161, -0.4815, 2.6298, 2.6088, 2.6057, 2.5927, 2.5848, 2.5709, 2.5708, 2.5498, 2.5486, 2.5451, 2.5424, 2.5357, 2.5345, 2.5338, 2.5331, 2.5222, 2.5221, 2.5074, 2.5015, 2.5014, 2.4881, 2.4841, 2.4733, 2.4726, 2.4695, 2.4695, 2.4695, 2.4694, 2.4694, 2.45, 2.427, 2.4015, 2.413, 2.282, 2.1402, 2.1323, 2.3046, 1.8843, 1.5071, 2.0006, 1.8627, 0.4749, 0.3746, -0.3128, 0.8551, 0.9889, -0.5588, -0.5231, 0.3185, 3.303, 3.2978, 3.2451, 3.2426, 3.232, 3.1674, 3.1643, 3.1524, 3.1512, 3.1456, 3.1456, 3.1455, 3.1455, 3.1455, 3.1452, 3.1426, 3.1321, 3.1162, 3.101, 3.0969, 3.0863, 3.0753, 3.0744, 3.0218, 3.0056, 3.0017, 2.9973, 2.9973, 2.9787, 2.9655, 2.5903, 2.2692, 1.4612, 2.2099, 1.6553, 1.0766, 2.0082, 1.2146, 1.0888, -0.7142, 0.1608, 3.6839, 3.6499, 3.6262, 3.5928, 3.586, 3.5561, 3.5426, 3.5125, 3.5113, 3.5101, 3.4821, 3.4821, 3.482, 3.4658, 3.4657, 3.4286, 3.4141, 3.4057, 3.3889, 3.3633, 3.2936, 3.2913, 3.2911, 3.2911, 3.259, 3.2482, 3.2312, 3.1858, 3.1858, 3.1854, 2.7683, 2.1707, 2.5354, 0.5682, 1.8914, 0.521, 3.8308, 3.798, 3.7815, 3.755, 3.7121, 3.7081, 3.6637, 3.6546, 3.6546, 3.6546, 3.6049, 3.5919, 3.5768, 3.5287, 3.5282, 3.5229, 3.5117, 3.4842, 3.4772, 3.4439, 3.4439, 3.4282, 3.3759, 3.3759, 3.2669, 3.2669, 3.2669, 3.2669, 3.2669, 3.2669, 2.3651, 2.1478, 1.5968, 2.649, 1.7623, 1.5419, 0.2469, 0.3167, 3.913, 3.8872, 3.882, 3.8642, 3.8514, 3.812, 3.8026, 3.7389, 3.7147, 3.6694, 3.5899, 3.5346, 3.5319, 3.5316, 3.5313, 3.4698, 3.4688, 3.4688, 3.4227, 3.3835, 3.3635, 3.3633, 3.3633, 3.3633, 3.3627, 3.3481, 3.3481, 3.3479, 3.2825, 3.2303, 3.0812, 2.3436, 2.5946, 1.7425, 1.7915, 2.2771, 0.8052, 3.0, 2.4945, 4.5083, 4.4617, 4.4429, 4.4028, 4.3914, 4.372, 4.372, 4.372, 4.2522, 4.1974, 4.1896, 4.1893, 4.0637, 3.8571, 3.8571, 3.8571, 3.857, 3.857, 3.857, 3.8566, 3.8566, 3.8566, 3.8558, 3.8558, 3.8558, 3.8558, 3.6861, 3.686, 3.686, 3.6857, 3.4864, 2.7036, 1.4611, 1.8969]}, \"token.table\": {\"Topic\": [2, 4, 2, 3, 8, 7, 4, 6, 3, 5, 6, 9, 2, 6, 1, 2, 3, 5, 1, 1, 3, 4, 5, 8, 8, 1, 2, 5, 2, 4, 3, 5, 1, 4, 5, 7, 2, 8, 6, 10, 3, 8, 3, 5, 10, 8, 5, 7, 1, 4, 1, 2, 3, 8, 4, 8, 7, 1, 9, 10, 3, 2, 3, 2, 4, 1, 3, 5, 1, 2, 3, 4, 5, 6, 7, 3, 9, 4, 3, 4, 3, 1, 3, 5, 8, 4, 2, 2, 10, 10, 6, 10, 1, 3, 5, 4, 4, 4, 1, 5, 9, 1, 7, 6, 7, 9, 8, 6, 6, 9, 8, 5, 5, 8, 7, 6, 9, 2, 3, 9, 5, 1, 2, 3, 8, 2, 1, 3, 4, 5, 1, 9, 3, 9, 7, 6, 3, 4, 8, 1, 3, 4, 9, 5, 6, 5, 7, 4, 5, 3, 6, 9, 1, 2, 6, 9, 2, 4, 5, 2, 4, 5, 3, 6, 1, 5, 3, 6, 8, 9, 10, 8, 2, 9, 3, 7, 2, 3, 2, 5, 7, 1, 3, 6, 8, 1, 2, 4, 5, 7, 7, 9, 1, 3, 5, 1, 3, 4, 5, 1, 2, 4, 6, 2, 3, 7, 2, 7, 2, 8, 7, 2, 2, 5, 5, 1, 6, 3, 4, 8, 7, 4, 8, 4, 7, 1, 5, 4, 7, 6, 4, 3, 1, 3, 9, 1, 6, 6, 2, 2, 2, 9, 4, 9, 2, 3, 6, 7, 2, 3, 10, 1, 3, 5, 2, 3, 8, 7, 2, 3, 1, 3, 2, 5, 9, 1, 2, 4, 5, 7, 9, 2, 4, 5, 9, 5, 9, 5, 3, 3, 8, 1, 3, 4, 6, 2, 2, 10, 5, 7, 1, 5, 9, 2, 4, 7, 1, 6, 8, 1, 2, 4, 5, 1, 3, 4, 5, 2, 3, 2, 6, 1, 4, 6, 3, 1, 1, 4, 9, 3, 9, 9, 1, 4, 10, 2, 5, 5, 8, 9, 5, 6, 8, 9, 4, 4, 1, 3, 4, 8, 3, 1, 2, 5, 6, 9, 10, 5, 2, 4, 1, 3, 9, 9, 5, 1, 10, 1, 4, 1, 7, 10, 1, 2, 4, 9, 8, 8, 1, 3, 3, 5, 1, 3, 4, 2, 8, 2, 4, 6, 2, 10, 6, 1, 3, 5, 1, 1, 3, 3, 3, 6, 3, 4, 6, 4, 3, 2, 3, 2, 4, 1, 1, 2, 5, 6, 7, 5, 8, 2, 5, 2, 4, 1, 2, 6, 8, 6, 3, 9, 7, 3, 2, 9, 3, 7, 4, 1, 3, 1, 2, 1, 4, 6, 9, 2, 1, 3, 1, 3, 6, 3, 5, 6, 6, 5, 7, 1, 8, 5, 2, 6, 8, 2, 1, 2, 4, 5, 1, 2, 3, 5, 2, 7, 5, 2, 8, 8, 3, 5, 6, 2, 8, 2, 6, 8, 7, 3, 3, 5, 7, 7, 2, 3, 4, 10, 2, 5, 8, 2, 9, 7, 1, 2, 3, 5, 6, 8, 9, 5, 10, 6, 5, 1, 3, 2, 3, 9, 3, 1, 7, 1, 4, 8, 6, 6, 1, 3, 4, 4, 1, 4, 5, 2, 1, 2, 4, 5, 6, 1, 5, 6, 5], \"Freq\": [0.1844215436886575, 0.73768617475463, 0.5751681336238089, 0.30127854618389993, 0.1095558349759636, 0.8406999289962466, 0.9196678157777459, 0.9266421443048687, 0.9734658143788116, 0.7800267641982165, 0.92165243461373, 0.599717985122987, 0.9259952400718677, 0.06614251714799055, 0.7012142303171089, 0.11169784199741559, 0.06825979233175397, 0.11169784199741559, 0.9276955325928481, 0.9481649953363299, 0.018591470496790784, 0.018591470496790784, 0.8922865120343102, 0.4910408148647701, 0.9353708843139058, 0.8681123626538163, 0.12401605180768804, 0.8697432253605629, 0.957067392879524, 0.9520194393971483, 0.8644843112137053, 0.07858948283760957, 0.9750140674681459, 0.7368485401906107, 0.7381170955982427, 0.7220930943436101, 0.978810372070332, 0.8559202825927844, 0.4661058473554644, 0.4811688268130267, 0.9192834984052805, 0.6763830005777821, 0.6867519748780053, 0.19621484996514438, 0.7404555866864199, 0.719425031293023, 0.9587384261793654, 0.8087387223138189, 0.30942382435806837, 0.6188476487161367, 0.4115402241434318, 0.31470723022733016, 0.2904989817483048, 0.9076652566819225, 0.9479930369761979, 0.719425031293023, 0.8936594654084604, 0.9204947080897896, 0.6918475147581209, 0.5907411628104509, 0.8751129059316382, 0.8367873365776498, 0.8909878127524302, 0.1328829157329428, 0.797297494397657, 0.44378475097835385, 0.237741830881261, 0.31698910784168133, 0.5253932538741394, 0.020603657014672132, 0.010301828507336066, 0.3296585122347541, 0.051509142536680326, 0.020603657014672132, 0.041207314029344265, 0.9397570659314134, 0.9472166043126518, 0.9328930436132775, 0.9361184877522125, 0.9007058887458853, 0.8666371469663644, 0.7987460845361906, 0.15974921690723812, 0.026624869484539685, 0.026624869484539685, 0.8498611824725338, 0.9402905817294545, 0.37307741743045153, 0.37307741743045153, 0.6377135766762837, 0.7922371141964479, 0.09902963927455599, 0.6057602341251184, 0.363456140475071, 0.03028801170625592, 0.8890671580735957, 0.7364645826528617, 0.8665411450295835, 0.9926758057204315, 0.9525585315196681, 0.7950526756008702, 0.9663830404825885, 0.8751434049926766, 0.888223431699617, 0.670485478571281, 0.6914521796940607, 0.8094220586856005, 0.46605880625078894, 0.9145746045630556, 0.5992476340385786, 0.48551290457736734, 0.7949818383021743, 0.8833780615040857, 0.5294628787640646, 0.9607116700154368, 0.8659232142317593, 0.8844078618734398, 0.953991501367959, 0.9552049833904704, 0.6913986403748865, 0.8367069412138992, 0.9112622423305556, 0.04142101101502526, 0.04142101101502526, 0.8406745430508085, 0.9232717923620379, 0.6261484200081654, 0.03478602333378697, 0.27828818667029576, 0.03478602333378697, 0.2745477017160399, 0.5490954034320799, 0.5543849295752935, 0.27719246478764675, 0.9478431822168943, 0.7090914998897773, 0.8932328316113178, 0.885547788569742, 0.10418209277291082, 0.37419976236485036, 0.28866838811002743, 0.3314340752374389, 0.7040520849696279, 0.8165884718962482, 0.15703624459543233, 0.8924773324179419, 0.8457454935519305, 0.9007334883695771, 0.8965948010790766, 0.8729322027100171, 0.10911652533875214, 0.9343636683962115, 0.9255226873455991, 0.47215246669907196, 0.15738415556635732, 0.15738415556635732, 0.22146749671904697, 0.073822498906349, 0.6644024901571409, 0.932945636225879, 0.9381383187259263, 0.032349597197445734, 0.7768299394651839, 0.12947165657753065, 0.5423176005672027, 0.48206008939306905, 0.9712632509380492, 0.8983210468396378, 0.5678490984925904, 0.5410759729126288, 0.4811688268130267, 0.5021229919618978, 0.9927293381691472, 0.6914521796940607, 0.4773720021567327, 0.3182480014378218, 0.8352857999601464, 0.08352857999601464, 0.1656724387306127, 0.5798535355571444, 0.20709054841326585, 0.967673899525271, 0.8177098504503897, 0.805992970166628, 0.5678530239142016, 0.7319281528579348, 0.15873140664388946, 0.008818411480216082, 0.10582093776259298, 0.9834770787716618, 0.9011853587326727, 0.8755973465809674, 0.9250975661093035, 0.05000527384374613, 0.025002636921873066, 0.9216666533055591, 0.01440104145789936, 0.05760416583159744, 0.00720052072894968, 0.95718414813357, 0.0041616702092763915, 0.03745503188348752, 0.48582749807857983, 0.567471863750165, 0.40984079048623034, 0.7898018961141033, 0.6080434124152082, 0.3040217062076041, 0.8690139314308782, 0.6293240192877656, 0.6244514686248014, 0.9305757065557873, 0.4681127368049213, 0.5461315262724082, 0.9207117153751273, 0.9354841819125473, 0.035980160842790286, 0.8179802145973553, 0.9538587198725765, 0.6976238581444671, 0.7571584127789925, 0.903746473901928, 0.4852394313331707, 0.9514855555205078, 0.6244785418439548, 0.2687028948047006, 0.6717572370117516, 0.8475375623897382, 0.6246414767986261, 0.8876262486306159, 0.805735212486863, 0.9139945819969844, 0.06517759949749259, 0.6517759949749259, 0.19553279849247776, 0.8581641494571737, 0.12259487849388195, 0.7612872561530004, 0.9645355219315417, 0.9565293834958952, 0.8971337511952892, 0.6914521796940607, 0.9746073043875304, 0.541019170322781, 0.3675039132945772, 0.4287545655103401, 0.1837519566472886, 0.9054608804323111, 0.8722784538972949, 0.12461120769961355, 0.644036842765546, 0.9325276400447723, 0.016078062759392626, 0.048234188278177874, 0.5602711152535985, 0.2000968268762852, 0.2000968268762852, 0.836258900420832, 0.8228941893291492, 0.15429266049921547, 0.9259065334773636, 0.05446509020455081, 0.3885380474376438, 0.5828070711564657, 0.9017000409607472, 0.8382079378016923, 0.019195601629046388, 0.057586804887139166, 0.04478973713444157, 0.04478973713444157, 0.6746997276203999, 0.4795743837578635, 0.2776483274387631, 0.17668529927921287, 0.05048151407977511, 0.9013607593187591, 0.6917796859924017, 0.9627677807817814, 0.8933307476534295, 0.863265980125075, 0.719425031293023, 0.08450826742296405, 0.8450826742296406, 0.8475756596780332, 0.6994659918034505, 0.9657826126858952, 0.8975061658480323, 0.6440792449730183, 0.7810967832606371, 0.9478431822168943, 0.9133224875607243, 0.8906690971733863, 0.9553379316436769, 0.42967345967594034, 0.5728979462345871, 0.9209647488657244, 0.9749437580368482, 0.030466992438651506, 0.719425031293023, 0.8431850175004982, 0.12141864252007174, 0.020236440420011957, 0.006745480140003986, 0.9116897393935703, 0.5651632053486819, 0.3843109796371037, 0.04521305642789455, 0.9631121187781161, 0.9679946487274493, 0.24885930647085305, 0.6636248172556082, 0.9118941671210115, 0.05883188174974267, 0.8876262486306159, 0.8377835892609018, 0.9792839098487323, 0.9776354057031892, 0.946939714425844, 0.6345219481003135, 0.838767005046795, 0.076251545913345, 0.5408574390216774, 0.9595504737544742, 0.9533669565287759, 0.9009618070165364, 0.09747065442806581, 0.8772358898525923, 0.3694592526712963, 0.3694592526712963, 0.18472962633564816, 0.4302211659688202, 0.4302211659688202, 0.719425031293023, 0.4827984515239414, 0.9409055076512507, 0.913326919400383, 0.8875470172261505, 0.09342600181327901, 0.023356500453319752, 0.6976238581444671, 0.982806858647839, 0.6596471093162404, 0.1978941327948721, 0.09894706639743606, 0.03298235546581202, 0.7039457159524676, 0.6767064256556764, 0.8924062502369772, 0.1410473925734663, 0.8462843554407978, 0.9776980430183756, 0.010184354614774746, 0.5381656923200804, 0.6413254196304563, 0.9655186834986718, 0.9155295043360004, 0.05086275024088891, 0.9239371550052816, 0.05279640885744466, 0.9653971884882083, 0.5223787409755277, 0.7787546759004489, 0.7335435457789544, 0.04584647161118465, 0.21395020085219504, 0.7937605470365803, 0.8700453259131686, 0.5824602752158959, 0.8352385592958442, 0.1473950398757372, 0.9824930521543931, 0.9380398954546305, 0.662654091665206, 0.013805293576358457, 0.3175217522562445, 0.9811748415504166, 0.8377193597883713, 0.933746627485005, 0.09073999596183852, 0.8166599636565467, 0.9027959589175089, 0.4616271050921929, 0.7592514399146104, 0.7946474074519908, 0.03973237037259954, 0.15892948149039815, 0.9071381049793896, 0.9749206652511655, 0.8581343919940266, 0.8179161520656406, 0.6414227394567653, 0.2138075798189218, 0.21217969429603573, 0.7426289300361251, 0.8794258961162807, 0.9115399220943237, 0.876796924041236, 0.26796557838615315, 0.7145748756964084, 0.22387691842683186, 0.716406138965862, 0.9729452208222387, 0.6791063218702906, 0.16298551724886975, 0.027164252874811626, 0.1086570114992465, 0.5248641090149329, 0.7950482772043205, 0.719425031293023, 0.15627997345673206, 0.7813998672836603, 0.8414896473727873, 0.9586083326111835, 0.9855836802158779, 0.14270474927948634, 0.7491999337173033, 0.10702856195961476, 0.937172705376261, 0.8851205172586536, 0.5997772898903524, 0.8449214649933687, 0.9430661165366908, 0.8568259067693272, 0.12852388601539907, 0.8867140050108822, 0.5564238684738255, 0.7366093079560434, 0.9761865425646126, 0.027891044073274644, 0.9827955365666204, 0.9121407966777609, 0.7575892777104571, 0.24082308165630428, 0.44135335708654727, 0.44135335708654727, 0.820040532192813, 0.19836041938959334, 0.7934416775583734, 0.992624472316397, 0.005090381909314857, 0.9226220075965139, 0.8229324057308198, 0.9425556761541658, 0.9366571106119056, 0.8328560588183068, 0.8225726747937321, 0.14955866814431493, 0.9527796405340742, 0.8544123771349746, 0.7949223356969133, 0.8197318142567802, 0.662950648596823, 0.9638539073632615, 0.8900466464457442, 0.7473931933444242, 0.041521844074690235, 0.20760922037345117, 0.9775530943124418, 0.5725427500392302, 0.08007590909639584, 0.2922770682018448, 0.05204934091265729, 0.19137128087572475, 0.5741138426271742, 0.7953562524969867, 0.9183931728205805, 0.6293144521437399, 0.6976238581444671, 0.48099480990829935, 0.4489284892477461, 0.03206632066055329, 0.9644251437734588, 0.017221877567383193, 0.5549855461125988, 0.2774927730562994, 0.5362859380633569, 0.5249374677822188, 0.8751129059316382, 0.8969046263718399, 0.06406461616941714, 0.5826934006825216, 0.5249317104334129, 0.8434436964864743, 0.16868873929729486, 0.7812459509717312, 0.4811688268130267, 0.9184842599414041, 0.8973622946613756, 0.08157839042376143, 0.9101629498896089, 0.9071807437124354, 0.6705942444255142, 0.9056861025138279, 0.010410185086365837, 0.020820370172731674, 0.04164074034546335, 0.015615277629548755, 0.0052050925431829185, 0.7039079641985101, 0.8912425783183072, 0.8187763647203565, 0.8876262486306159, 0.7951532586971106, 0.8973545885188828, 0.09347443630405029, 0.969367169993291, 0.49140070057852797, 0.49140070057852797, 0.8274907550113753, 0.9909798453556197, 0.9479522504793124, 0.7572622146090684, 0.047328888413066775, 0.1893155536522671, 0.849669503562922, 0.8875606620671861, 0.767965509931712, 0.035998383278049, 0.191991377482928, 0.9297299786357133, 0.9809244235814437, 0.1678939912022658, 0.7555229604101962, 0.9629524458266833, 0.9398110049315891, 0.027373136065968612, 0.009124378688656204, 0.009124378688656204, 0.8875606620671861, 0.9449615418762061, 0.6343972136138474, 0.3806383281683084, 0.8605180814967461], \"Term\": [\"ability\", \"ability\", \"able\", \"able\", \"able\", \"absolutely\", \"activation\", \"actually\", \"add\", \"additional\", \"ago\", \"ai\", \"alarm\", \"alarm\", \"alexa\", \"alexa\", \"alexa\", \"alexa\", \"already\", \"also\", \"also\", \"also\", \"alternative\", \"amazed\", \"amazing\", \"amazon\", \"amazon\", \"annoying\", \"answer\", \"anywhere\", \"app\", \"app\", \"apple\", \"appliance\", \"application\", \"area\", \"ask\", \"assistant\", \"automate\", \"avail\", \"available\", \"away\", \"awesome\", \"awesome\", \"bad\", \"balanced\", \"base\", \"basement\", \"bass\", \"bass\", \"battery\", \"battery\", \"battery\", \"beach\", \"bedroom\", \"beef\", \"benefit\", \"big\", \"bit\", \"black\", \"blue\", \"bonus\", \"bose\", \"bring\", \"bring\", \"button\", \"button\", \"button\", \"buy\", \"buy\", \"buy\", \"buy\", \"buy\", \"buy\", \"buy\", \"call\", \"capability\", \"carry\", \"case\", \"cell\", \"certain\", \"charge\", \"charge\", \"charge\", \"charge\", \"clear\", \"clock\", \"cloud\", \"cloud\", \"college\", \"come\", \"come\", \"command\", \"command\", \"command\", \"compact\", \"compliment\", \"computer\", \"connect\", \"connection\", \"connectivity\", \"control\", \"convenient\", \"cooking\", \"cover\", \"crack\", \"cradle\", \"current\", \"currently\", \"cute\", \"cylinder\", \"dad\", \"daily\", \"date\", \"daughter\", \"deal\", \"decent\", \"decide\", \"deck\", \"def\", \"definitely\", \"device\", \"device\", \"device\", \"difficult\", \"disappoint\", \"dot\", \"dot\", \"dot\", \"dot\", \"downside\", \"downside\", \"drop\", \"drop\", \"dual\", \"early\", \"easily\", \"easy\", \"easy\", \"echo\", \"echo\", \"echo\", \"effortlessly\", \"enjoy\", \"enjoy\", \"enough\", \"entertain\", \"event\", \"everyday\", \"excellent\", \"excellent\", \"expensive\", \"extra\", \"fact\", \"fact\", \"fact\", \"family\", \"family\", \"family\", \"favorite\", \"feature\", \"feature\", \"feel\", \"feel\", \"find\", \"find\", \"first\", \"fit\", \"flash\", \"flawless\", \"follow\", \"form\", \"free\", \"freedom\", \"friend\", \"friend\", \"full\", \"full\", \"fun\", \"fun\", \"fun\", \"function\", \"garage\", \"gathering\", \"general\", \"get\", \"get\", \"get\", \"get\", \"gift\", \"girlfriend\", \"glad\", \"go\", \"go\", \"go\", \"good\", \"good\", \"good\", \"good\", \"great\", \"great\", \"great\", \"half\", \"hand\", \"hand\", \"handy\", \"hear\", \"hear\", \"help\", \"helper\", \"helpful\", \"high\", \"hit\", \"hit\", \"hold\", \"home\", \"home\", \"hot\", \"house\", \"hype\", \"ideal\", \"impressed\", \"incredible\", \"information\", \"informative\", \"instead\", \"instead\", \"instruction\", \"integration\", \"interest\", \"interface\", \"invest\", \"issue\", \"issue\", \"issue\", \"item\", \"item\", \"joke\", \"keep\", \"kid\", \"kitchen\", \"knock\", \"know\", \"lake\", \"last\", \"last\", \"last\", \"learn\", \"like\", \"like\", \"link\", \"listen\", \"listen\", \"listen\", \"little\", \"little\", \"little\", \"living\", \"long\", \"long\", \"look\", \"look\", \"lot\", \"lot\", \"loud\", \"love\", \"love\", \"love\", \"love\", \"love\", \"machine\", \"make\", \"make\", \"make\", \"make\", \"manually\", \"max\", \"maybe\", \"mean\", \"member\", \"mention\", \"microphone\", \"microphone\", \"mini\", \"minimal\", \"mobile\", \"mode\", \"model\", \"mom\", \"moment\", \"month\", \"mostly\", \"mother\", \"move\", \"move\", \"movie\", \"much\", \"much\", \"multipurpose\", \"music\", \"music\", \"music\", \"music\", \"name\", \"need\", \"need\", \"need\", \"network\", \"never\", \"new\", \"new\", \"nice\", \"nice\", \"notice\", \"offer\", \"office\", \"old\", \"one\", \"online\", \"operate\", \"operate\", \"opt\", \"option\", \"original\", \"otherwise\", \"outside\", \"outside\", \"pair\", \"pair\", \"pair\", \"part\", \"part\", \"pass\", \"penny\", \"perfect\", \"personal\", \"phone\", \"phone\", \"phone\", \"pill\", \"place\", \"play\", \"play\", \"play\", \"play\", \"player\", \"pleased\", \"point\", \"portability\", \"portability\", \"portable\", \"portable\", \"potential\", \"powerful\", \"press\", \"pretty\", \"pretty\", \"price\", \"price\", \"prime\", \"probably\", \"produce\", \"product\", \"product\", \"product\", \"productive\", \"provide\", \"pull\", \"purchase\", \"purchase\", \"push\", \"put\", \"quality\", \"quality\", \"quality\", \"question\", \"quick\", \"quickly\", \"radio\", \"radio\", \"read\", \"ready\", \"realize\", \"really\", \"really\", \"really\", \"rechargeable\", \"recommend\", \"regular\", \"remember\", \"request\", \"request\", \"respond\", \"respond\", \"responsive\", \"rest\", \"return\", \"review\", \"review\", \"room\", \"room\", \"sale\", \"say\", \"say\", \"say\", \"say\", \"schedule\", \"science\", \"scream\", \"see\", \"see\", \"seem\", \"serve\", \"service\", \"set\", \"set\", \"set\", \"setup\", \"several\", \"share\", \"simple\", \"simply\", \"size\", \"size\", \"skill\", \"sleep\", \"slightly\", \"small\", \"small\", \"smart\", \"song\", \"sound\", \"sound\", \"soundlink\", \"soundlink\", \"source\", \"speak\", \"speak\", \"speaker\", \"speaker\", \"spot\", \"stand\", \"star\", \"start\", \"station\", \"still\", \"still\", \"stream\", \"super\", \"supposedly\", \"sure\", \"surprised\", \"sync\", \"system\", \"take\", \"take\", \"take\", \"talk\", \"tap\", \"tap\", \"tap\", \"tap\", \"technology\", \"technology\", \"teenager\", \"tell\", \"terrific\", \"therefore\", \"thing\", \"thing\", \"thing\", \"time\", \"time\", \"timer\", \"timer\", \"ton\", \"tool\", \"tooth\", \"touch\", \"touch\", \"toy\", \"traffic\", \"try\", \"try\", \"tub\", \"unable\", \"understand\", \"unit\", \"unit\", \"update\", \"upgrade\", \"usage\", \"use\", \"use\", \"use\", \"use\", \"use\", \"use\", \"used\", \"useful\", \"useless\", \"vacation\", \"valid\", \"voice\", \"voice\", \"volume\", \"wait\", \"wait\", \"wake\", \"want\", \"watch\", \"weather\", \"weather\", \"weather\", \"week\", \"weight\", \"well\", \"well\", \"well\", \"wife\", \"wifi\", \"wireless\", \"wireless\", \"wish\", \"work\", \"work\", \"work\", \"work\", \"worldwide\", \"worth\", \"year\", \"year\", \"yet\"]}, \"R\": 30, \"lambda.step\": 0.01, \"plot.opts\": {\"xlab\": \"PC1\", \"ylab\": \"PC2\"}, \"topic.order\": [5, 7, 10, 2, 4, 6, 9, 1, 3, 8]};\n",
              "\n",
              "function LDAvis_load_lib(url, callback){\n",
              "  var s = document.createElement('script');\n",
              "  s.src = url;\n",
              "  s.async = true;\n",
              "  s.onreadystatechange = s.onload = callback;\n",
              "  s.onerror = function(){console.warn(\"failed to load library \" + url);};\n",
              "  document.getElementsByTagName(\"head\")[0].appendChild(s);\n",
              "}\n",
              "\n",
              "if(typeof(LDAvis) !== \"undefined\"){\n",
              "   // already loaded: just create the visualization\n",
              "   !function(LDAvis){\n",
              "       new LDAvis(\"#\" + \"ldavis_el190771389459655851521406884161\", ldavis_el190771389459655851521406884161_data);\n",
              "   }(LDAvis);\n",
              "}else if(typeof define === \"function\" && define.amd){\n",
              "   // require.js is available: use it to load d3/LDAvis\n",
              "   require.config({paths: {d3: \"https://d3js.org/d3.v5\"}});\n",
              "   require([\"d3\"], function(d3){\n",
              "      window.d3 = d3;\n",
              "      LDAvis_load_lib(\"https://cdn.jsdelivr.net/gh/bmabey/pyLDAvis@3.4.0/pyLDAvis/js/ldavis.v3.0.0.js\", function(){\n",
              "        new LDAvis(\"#\" + \"ldavis_el190771389459655851521406884161\", ldavis_el190771389459655851521406884161_data);\n",
              "      });\n",
              "    });\n",
              "}else{\n",
              "    // require.js not available: dynamically load d3 & LDAvis\n",
              "    LDAvis_load_lib(\"https://d3js.org/d3.v5.js\", function(){\n",
              "         LDAvis_load_lib(\"https://cdn.jsdelivr.net/gh/bmabey/pyLDAvis@3.4.0/pyLDAvis/js/ldavis.v3.0.0.js\", function(){\n",
              "                 new LDAvis(\"#\" + \"ldavis_el190771389459655851521406884161\", ldavis_el190771389459655851521406884161_data);\n",
              "            })\n",
              "         });\n",
              "}\n",
              "</script>"
            ]
          },
          "metadata": {},
          "execution_count": 23
        }
      ]
    },
    {
      "cell_type": "markdown",
      "source": [
        "Hyperparameter Tuning - Number of Topics and Alpha"
      ],
      "metadata": {
        "id": "V-LuXPVo-gBK"
      }
    },
    {
      "cell_type": "code",
      "source": [
        "# compute coherence value at various values of alpha and num_topics\n",
        "def compute_coherence_values(dictionary, corpus, texts, num_topics_range,alpha_range):\n",
        "    coherence_values=[]\n",
        "    model_list=[]\n",
        "    for alpha in alpha_range:\n",
        "        for num_topics in num_topics_range:\n",
        "            lda_model= gensim.models.ldamodel.LdaModel(corpus=corpus, id2word=dictionary, alpha=alpha,num_topics=num_topics,\\\n",
        "                                                      per_word_topics=True)\n",
        "            model_list.append(lda_model)\n",
        "            coherencemodel=CoherenceModel(model=lda_model,texts=texts,dictionary=dictionary,coherence='c_v')\n",
        "            coherence_values.append((alpha,num_topics,coherencemodel.get_coherence()))\n",
        "    return model_list,coherence_values"
      ],
      "metadata": {
        "colab": {
          "base_uri": "https://localhost:8080/"
        },
        "id": "d6TrcmZr-bvO",
        "outputId": "3c15d6be-44b4-4ea5-d76f-c490248a7642"
      },
      "execution_count": null,
      "outputs": [
        {
          "output_type": "stream",
          "name": "stderr",
          "text": [
            "/usr/local/lib/python3.10/dist-packages/ipykernel/ipkernel.py:283: DeprecationWarning: `should_run_async` will not call `transform_cell` automatically in the future. Please pass the result to `transformed_cell` argument and any exception that happen during thetransform in `preprocessing_exc_tuple` in IPython 7.17 and above.\n",
            "  and should_run_async(code)\n"
          ]
        }
      ]
    },
    {
      "cell_type": "code",
      "source": [
        "# build models accross a range of num_topics and alpha\n",
        "num_topics_range= [2,6,10,15,20]\n",
        "alpha_range=[0.01,0.1,1]\n",
        "model_list, coherence_values= compute_coherence_values(dictionary=id2word,corpus=corpus,texts=data_lemmatized,\\\n",
        "                                                       num_topics_range=num_topics_range,alpha_range=alpha_range)"
      ],
      "metadata": {
        "colab": {
          "base_uri": "https://localhost:8080/"
        },
        "id": "pPntaLGu-jE3",
        "outputId": "4f122359-45cf-401d-bac0-ad0ef7b886c1"
      },
      "execution_count": null,
      "outputs": [
        {
          "output_type": "stream",
          "name": "stderr",
          "text": [
            "/usr/local/lib/python3.10/dist-packages/ipykernel/ipkernel.py:283: DeprecationWarning: `should_run_async` will not call `transform_cell` automatically in the future. Please pass the result to `transformed_cell` argument and any exception that happen during thetransform in `preprocessing_exc_tuple` in IPython 7.17 and above.\n",
            "  and should_run_async(code)\n",
            "WARNING:gensim.models.ldamodel:too few updates, training might not converge; consider increasing the number of passes or iterations to improve accuracy\n",
            "WARNING:gensim.models.ldamodel:too few updates, training might not converge; consider increasing the number of passes or iterations to improve accuracy\n",
            "WARNING:gensim.models.ldamodel:too few updates, training might not converge; consider increasing the number of passes or iterations to improve accuracy\n",
            "WARNING:gensim.models.ldamodel:too few updates, training might not converge; consider increasing the number of passes or iterations to improve accuracy\n",
            "WARNING:gensim.models.ldamodel:too few updates, training might not converge; consider increasing the number of passes or iterations to improve accuracy\n",
            "WARNING:gensim.models.ldamodel:too few updates, training might not converge; consider increasing the number of passes or iterations to improve accuracy\n",
            "WARNING:gensim.models.ldamodel:too few updates, training might not converge; consider increasing the number of passes or iterations to improve accuracy\n",
            "WARNING:gensim.models.ldamodel:too few updates, training might not converge; consider increasing the number of passes or iterations to improve accuracy\n",
            "WARNING:gensim.models.ldamodel:too few updates, training might not converge; consider increasing the number of passes or iterations to improve accuracy\n",
            "WARNING:gensim.models.ldamodel:too few updates, training might not converge; consider increasing the number of passes or iterations to improve accuracy\n",
            "WARNING:gensim.models.ldamodel:too few updates, training might not converge; consider increasing the number of passes or iterations to improve accuracy\n",
            "WARNING:gensim.models.ldamodel:too few updates, training might not converge; consider increasing the number of passes or iterations to improve accuracy\n",
            "WARNING:gensim.models.ldamodel:too few updates, training might not converge; consider increasing the number of passes or iterations to improve accuracy\n",
            "WARNING:gensim.models.ldamodel:too few updates, training might not converge; consider increasing the number of passes or iterations to improve accuracy\n",
            "WARNING:gensim.models.ldamodel:too few updates, training might not converge; consider increasing the number of passes or iterations to improve accuracy\n"
          ]
        }
      ]
    },
    {
      "cell_type": "code",
      "source": [
        "coherence_df = pd.DataFrame(coherence_values, columns=['alpha', 'num_topics', 'coherence_value'])\n",
        "coherence_df"
      ],
      "metadata": {
        "colab": {
          "base_uri": "https://localhost:8080/",
          "height": 574
        },
        "id": "q6tqaeln-kot",
        "outputId": "f5a887bb-9d02-46d0-8ac6-ef5c823a426b"
      },
      "execution_count": null,
      "outputs": [
        {
          "output_type": "stream",
          "name": "stderr",
          "text": [
            "/usr/local/lib/python3.10/dist-packages/ipykernel/ipkernel.py:283: DeprecationWarning: `should_run_async` will not call `transform_cell` automatically in the future. Please pass the result to `transformed_cell` argument and any exception that happen during thetransform in `preprocessing_exc_tuple` in IPython 7.17 and above.\n",
            "  and should_run_async(code)\n"
          ]
        },
        {
          "output_type": "execute_result",
          "data": {
            "text/plain": [
              "    alpha  num_topics  coherence_value\n",
              "0    0.01           2         0.459463\n",
              "1    0.01           6         0.442736\n",
              "2    0.01          10         0.383226\n",
              "3    0.01          15         0.409217\n",
              "4    0.01          20         0.389520\n",
              "5    0.10           2         0.476547\n",
              "6    0.10           6         0.456202\n",
              "7    0.10          10         0.420225\n",
              "8    0.10          15         0.418214\n",
              "9    0.10          20         0.422496\n",
              "10   1.00           2         0.466258\n",
              "11   1.00           6         0.463493\n",
              "12   1.00          10         0.458835\n",
              "13   1.00          15         0.467330\n",
              "14   1.00          20         0.469404"
            ],
            "text/html": [
              "\n",
              "\n",
              "  <div id=\"df-9e685809-b9ae-4c3e-9ed7-f3fed99488e7\">\n",
              "    <div class=\"colab-df-container\">\n",
              "      <div>\n",
              "<style scoped>\n",
              "    .dataframe tbody tr th:only-of-type {\n",
              "        vertical-align: middle;\n",
              "    }\n",
              "\n",
              "    .dataframe tbody tr th {\n",
              "        vertical-align: top;\n",
              "    }\n",
              "\n",
              "    .dataframe thead th {\n",
              "        text-align: right;\n",
              "    }\n",
              "</style>\n",
              "<table border=\"1\" class=\"dataframe\">\n",
              "  <thead>\n",
              "    <tr style=\"text-align: right;\">\n",
              "      <th></th>\n",
              "      <th>alpha</th>\n",
              "      <th>num_topics</th>\n",
              "      <th>coherence_value</th>\n",
              "    </tr>\n",
              "  </thead>\n",
              "  <tbody>\n",
              "    <tr>\n",
              "      <th>0</th>\n",
              "      <td>0.01</td>\n",
              "      <td>2</td>\n",
              "      <td>0.459463</td>\n",
              "    </tr>\n",
              "    <tr>\n",
              "      <th>1</th>\n",
              "      <td>0.01</td>\n",
              "      <td>6</td>\n",
              "      <td>0.442736</td>\n",
              "    </tr>\n",
              "    <tr>\n",
              "      <th>2</th>\n",
              "      <td>0.01</td>\n",
              "      <td>10</td>\n",
              "      <td>0.383226</td>\n",
              "    </tr>\n",
              "    <tr>\n",
              "      <th>3</th>\n",
              "      <td>0.01</td>\n",
              "      <td>15</td>\n",
              "      <td>0.409217</td>\n",
              "    </tr>\n",
              "    <tr>\n",
              "      <th>4</th>\n",
              "      <td>0.01</td>\n",
              "      <td>20</td>\n",
              "      <td>0.389520</td>\n",
              "    </tr>\n",
              "    <tr>\n",
              "      <th>5</th>\n",
              "      <td>0.10</td>\n",
              "      <td>2</td>\n",
              "      <td>0.476547</td>\n",
              "    </tr>\n",
              "    <tr>\n",
              "      <th>6</th>\n",
              "      <td>0.10</td>\n",
              "      <td>6</td>\n",
              "      <td>0.456202</td>\n",
              "    </tr>\n",
              "    <tr>\n",
              "      <th>7</th>\n",
              "      <td>0.10</td>\n",
              "      <td>10</td>\n",
              "      <td>0.420225</td>\n",
              "    </tr>\n",
              "    <tr>\n",
              "      <th>8</th>\n",
              "      <td>0.10</td>\n",
              "      <td>15</td>\n",
              "      <td>0.418214</td>\n",
              "    </tr>\n",
              "    <tr>\n",
              "      <th>9</th>\n",
              "      <td>0.10</td>\n",
              "      <td>20</td>\n",
              "      <td>0.422496</td>\n",
              "    </tr>\n",
              "    <tr>\n",
              "      <th>10</th>\n",
              "      <td>1.00</td>\n",
              "      <td>2</td>\n",
              "      <td>0.466258</td>\n",
              "    </tr>\n",
              "    <tr>\n",
              "      <th>11</th>\n",
              "      <td>1.00</td>\n",
              "      <td>6</td>\n",
              "      <td>0.463493</td>\n",
              "    </tr>\n",
              "    <tr>\n",
              "      <th>12</th>\n",
              "      <td>1.00</td>\n",
              "      <td>10</td>\n",
              "      <td>0.458835</td>\n",
              "    </tr>\n",
              "    <tr>\n",
              "      <th>13</th>\n",
              "      <td>1.00</td>\n",
              "      <td>15</td>\n",
              "      <td>0.467330</td>\n",
              "    </tr>\n",
              "    <tr>\n",
              "      <th>14</th>\n",
              "      <td>1.00</td>\n",
              "      <td>20</td>\n",
              "      <td>0.469404</td>\n",
              "    </tr>\n",
              "  </tbody>\n",
              "</table>\n",
              "</div>\n",
              "      <button class=\"colab-df-convert\" onclick=\"convertToInteractive('df-9e685809-b9ae-4c3e-9ed7-f3fed99488e7')\"\n",
              "              title=\"Convert this dataframe to an interactive table.\"\n",
              "              style=\"display:none;\">\n",
              "\n",
              "  <svg xmlns=\"http://www.w3.org/2000/svg\" height=\"24px\"viewBox=\"0 0 24 24\"\n",
              "       width=\"24px\">\n",
              "    <path d=\"M0 0h24v24H0V0z\" fill=\"none\"/>\n",
              "    <path d=\"M18.56 5.44l.94 2.06.94-2.06 2.06-.94-2.06-.94-.94-2.06-.94 2.06-2.06.94zm-11 1L8.5 8.5l.94-2.06 2.06-.94-2.06-.94L8.5 2.5l-.94 2.06-2.06.94zm10 10l.94 2.06.94-2.06 2.06-.94-2.06-.94-.94-2.06-.94 2.06-2.06.94z\"/><path d=\"M17.41 7.96l-1.37-1.37c-.4-.4-.92-.59-1.43-.59-.52 0-1.04.2-1.43.59L10.3 9.45l-7.72 7.72c-.78.78-.78 2.05 0 2.83L4 21.41c.39.39.9.59 1.41.59.51 0 1.02-.2 1.41-.59l7.78-7.78 2.81-2.81c.8-.78.8-2.07 0-2.86zM5.41 20L4 18.59l7.72-7.72 1.47 1.35L5.41 20z\"/>\n",
              "  </svg>\n",
              "      </button>\n",
              "\n",
              "\n",
              "\n",
              "    <div id=\"df-b75e9cbe-6c7c-4877-a2c0-218a8d54f3aa\">\n",
              "      <button class=\"colab-df-quickchart\" onclick=\"quickchart('df-b75e9cbe-6c7c-4877-a2c0-218a8d54f3aa')\"\n",
              "              title=\"Suggest charts.\"\n",
              "              style=\"display:none;\">\n",
              "\n",
              "<svg xmlns=\"http://www.w3.org/2000/svg\" height=\"24px\"viewBox=\"0 0 24 24\"\n",
              "     width=\"24px\">\n",
              "    <g>\n",
              "        <path d=\"M19 3H5c-1.1 0-2 .9-2 2v14c0 1.1.9 2 2 2h14c1.1 0 2-.9 2-2V5c0-1.1-.9-2-2-2zM9 17H7v-7h2v7zm4 0h-2V7h2v10zm4 0h-2v-4h2v4z\"/>\n",
              "    </g>\n",
              "</svg>\n",
              "      </button>\n",
              "    </div>\n",
              "\n",
              "<style>\n",
              "  .colab-df-quickchart {\n",
              "    background-color: #E8F0FE;\n",
              "    border: none;\n",
              "    border-radius: 50%;\n",
              "    cursor: pointer;\n",
              "    display: none;\n",
              "    fill: #1967D2;\n",
              "    height: 32px;\n",
              "    padding: 0 0 0 0;\n",
              "    width: 32px;\n",
              "  }\n",
              "\n",
              "  .colab-df-quickchart:hover {\n",
              "    background-color: #E2EBFA;\n",
              "    box-shadow: 0px 1px 2px rgba(60, 64, 67, 0.3), 0px 1px 3px 1px rgba(60, 64, 67, 0.15);\n",
              "    fill: #174EA6;\n",
              "  }\n",
              "\n",
              "  [theme=dark] .colab-df-quickchart {\n",
              "    background-color: #3B4455;\n",
              "    fill: #D2E3FC;\n",
              "  }\n",
              "\n",
              "  [theme=dark] .colab-df-quickchart:hover {\n",
              "    background-color: #434B5C;\n",
              "    box-shadow: 0px 1px 3px 1px rgba(0, 0, 0, 0.15);\n",
              "    filter: drop-shadow(0px 1px 2px rgba(0, 0, 0, 0.3));\n",
              "    fill: #FFFFFF;\n",
              "  }\n",
              "</style>\n",
              "\n",
              "    <script>\n",
              "      async function quickchart(key) {\n",
              "        const containerElement = document.querySelector('#' + key);\n",
              "        const charts = await google.colab.kernel.invokeFunction(\n",
              "            'suggestCharts', [key], {});\n",
              "      }\n",
              "    </script>\n",
              "\n",
              "      <script>\n",
              "\n",
              "function displayQuickchartButton(domScope) {\n",
              "  let quickchartButtonEl =\n",
              "    domScope.querySelector('#df-b75e9cbe-6c7c-4877-a2c0-218a8d54f3aa button.colab-df-quickchart');\n",
              "  quickchartButtonEl.style.display =\n",
              "    google.colab.kernel.accessAllowed ? 'block' : 'none';\n",
              "}\n",
              "\n",
              "        displayQuickchartButton(document);\n",
              "      </script>\n",
              "      <style>\n",
              "    .colab-df-container {\n",
              "      display:flex;\n",
              "      flex-wrap:wrap;\n",
              "      gap: 12px;\n",
              "    }\n",
              "\n",
              "    .colab-df-convert {\n",
              "      background-color: #E8F0FE;\n",
              "      border: none;\n",
              "      border-radius: 50%;\n",
              "      cursor: pointer;\n",
              "      display: none;\n",
              "      fill: #1967D2;\n",
              "      height: 32px;\n",
              "      padding: 0 0 0 0;\n",
              "      width: 32px;\n",
              "    }\n",
              "\n",
              "    .colab-df-convert:hover {\n",
              "      background-color: #E2EBFA;\n",
              "      box-shadow: 0px 1px 2px rgba(60, 64, 67, 0.3), 0px 1px 3px 1px rgba(60, 64, 67, 0.15);\n",
              "      fill: #174EA6;\n",
              "    }\n",
              "\n",
              "    [theme=dark] .colab-df-convert {\n",
              "      background-color: #3B4455;\n",
              "      fill: #D2E3FC;\n",
              "    }\n",
              "\n",
              "    [theme=dark] .colab-df-convert:hover {\n",
              "      background-color: #434B5C;\n",
              "      box-shadow: 0px 1px 3px 1px rgba(0, 0, 0, 0.15);\n",
              "      filter: drop-shadow(0px 1px 2px rgba(0, 0, 0, 0.3));\n",
              "      fill: #FFFFFF;\n",
              "    }\n",
              "  </style>\n",
              "\n",
              "      <script>\n",
              "        const buttonEl =\n",
              "          document.querySelector('#df-9e685809-b9ae-4c3e-9ed7-f3fed99488e7 button.colab-df-convert');\n",
              "        buttonEl.style.display =\n",
              "          google.colab.kernel.accessAllowed ? 'block' : 'none';\n",
              "\n",
              "        async function convertToInteractive(key) {\n",
              "          const element = document.querySelector('#df-9e685809-b9ae-4c3e-9ed7-f3fed99488e7');\n",
              "          const dataTable =\n",
              "            await google.colab.kernel.invokeFunction('convertToInteractive',\n",
              "                                                     [key], {});\n",
              "          if (!dataTable) return;\n",
              "\n",
              "          const docLinkHtml = 'Like what you see? Visit the ' +\n",
              "            '<a target=\"_blank\" href=https://colab.research.google.com/notebooks/data_table.ipynb>data table notebook</a>'\n",
              "            + ' to learn more about interactive tables.';\n",
              "          element.innerHTML = '';\n",
              "          dataTable['output_type'] = 'display_data';\n",
              "          await google.colab.output.renderOutput(dataTable, element);\n",
              "          const docLink = document.createElement('div');\n",
              "          docLink.innerHTML = docLinkHtml;\n",
              "          element.appendChild(docLink);\n",
              "        }\n",
              "      </script>\n",
              "    </div>\n",
              "  </div>\n"
            ]
          },
          "metadata": {},
          "execution_count": 26
        }
      ]
    },
    {
      "cell_type": "code",
      "source": [
        "# plot\n",
        "def plot_coherence(coherence_df,alpha_range,num_topics_range):\n",
        "    plt.figure(figsize=(16,6))\n",
        "\n",
        "    for i,val in enumerate(alpha_range):\n",
        "        #subolot 1/3/i\n",
        "        plt.subplot(1,3,i+1)\n",
        "        alpha_subset=coherence_df[coherence_df['alpha']==val]\n",
        "        plt.plot(alpha_subset['num_topics'],alpha_subset['coherence_value'])\n",
        "        plt.xlabel('num_topics')\n",
        "        plt.ylabel('Coherence Value')\n",
        "        plt.title('alpha={0}'.format(val))\n",
        "        plt.ylim([0.30,1])\n",
        "        plt.legend('coherence value', loc='upper left')\n",
        "        plt.xticks(num_topics_range)\n",
        "plot_coherence(coherence_df,alpha_range,num_topics_range)"
      ],
      "metadata": {
        "colab": {
          "base_uri": "https://localhost:8080/",
          "height": 536
        },
        "id": "kIlvfIeH-qV4",
        "outputId": "18f82992-40ae-41aa-9828-130a37a04431"
      },
      "execution_count": null,
      "outputs": [
        {
          "output_type": "stream",
          "name": "stderr",
          "text": [
            "/usr/local/lib/python3.10/dist-packages/ipykernel/ipkernel.py:283: DeprecationWarning: `should_run_async` will not call `transform_cell` automatically in the future. Please pass the result to `transformed_cell` argument and any exception that happen during thetransform in `preprocessing_exc_tuple` in IPython 7.17 and above.\n",
            "  and should_run_async(code)\n"
          ]
        },
        {
          "output_type": "display_data",
          "data": {
            "text/plain": [
              "<Figure size 1600x600 with 3 Axes>"
            ],
            "image/png": "[encoded data removed]"
          },
          "metadata": {}
        }
      ]
    },
    {
      "cell_type": "code",
      "source": [],
      "metadata": {
        "id": "IFJoh6FvAfun"
      },
      "execution_count": null,
      "outputs": []
    },
    {
      "cell_type": "code",
      "source": [],
      "metadata": {
        "id": "gQdCzbD3HLWJ"
      },
      "execution_count": null,
      "outputs": []
    }
  ]
}